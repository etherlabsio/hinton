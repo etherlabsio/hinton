{
 "cells": [
  {
   "cell_type": "code",
   "execution_count": 1,
   "metadata": {},
   "outputs": [],
   "source": [
    "%load_ext autoreload\n",
    "%autoreload 2"
   ]
  },
  {
   "cell_type": "code",
   "execution_count": 2,
   "metadata": {},
   "outputs": [],
   "source": [
    "%matplotlib widget"
   ]
  },
  {
   "cell_type": "code",
   "execution_count": 8,
   "metadata": {},
   "outputs": [
    {
     "name": "stdout",
     "output_type": "stream",
     "text": [
      "[E050] Can't find model 'vendor/en_core_web_sm/en_core_web_sm-2.1.0'. It doesn't seem to be a shortcut link, a Python package or a valid path to a data directory.\n"
     ]
    }
   ],
   "source": [
    "import matplotlib.pyplot as plt\n",
    "import matplotlib.gridspec as gridspec\n",
    "import matplotlib.colors as mcolors\n",
    "import matplotlib.patches as mpatches\n",
    "\n",
    "import networkx as nx\n",
    "\n",
    "from graphrank import GraphRank\n",
    "import build_meeting_graph as bg"
   ]
  },
  {
   "cell_type": "code",
   "execution_count": 4,
   "metadata": {},
   "outputs": [
    {
     "ename": "ModuleNotFoundError",
     "evalue": "No module named 'textpreprocess'",
     "output_type": "error",
     "traceback": [
      "\u001b[0;31m---------------------------------------------------------------------------\u001b[0m",
      "\u001b[0;31mModuleNotFoundError\u001b[0m                       Traceback (most recent call last)",
      "\u001b[0;32m<ipython-input-4-2e2002f17f77>\u001b[0m in \u001b[0;36m<module>\u001b[0;34m\u001b[0m\n\u001b[0;32m----> 1\u001b[0;31m \u001b[0;32mimport\u001b[0m \u001b[0mtextpreprocess\u001b[0m\u001b[0;34m\u001b[0m\u001b[0;34m\u001b[0m\u001b[0m\n\u001b[0m",
      "\u001b[0;31mModuleNotFoundError\u001b[0m: No module named 'textpreprocess'"
     ]
    }
   ],
   "source": [
    "import textpreprocess"
   ]
  },
  {
   "cell_type": "code",
   "execution_count": 9,
   "metadata": {},
   "outputs": [],
   "source": [
    "json_file = \"meeting_test.json\""
   ]
  },
  {
   "cell_type": "code",
   "execution_count": 10,
   "metadata": {},
   "outputs": [],
   "source": [
    "meeting_graph = bg.build_meeting_graph(json_file=json_file)"
   ]
  },
  {
   "cell_type": "code",
   "execution_count": 11,
   "metadata": {},
   "outputs": [
    {
     "data": {
      "text/plain": [
       "21"
      ]
     },
     "execution_count": 11,
     "metadata": {},
     "output_type": "execute_result"
    }
   ],
   "source": [
    "meeting_graph.number_of_nodes()"
   ]
  },
  {
   "cell_type": "code",
   "execution_count": 12,
   "metadata": {},
   "outputs": [
    {
     "data": {
      "text/plain": [
       "NodeView(('6baa3490-69d6-48fc-b5d4-3994e3e8fae0', 'b5d4-3994e3e8fae0', '0f1aa05f2e944142a18974369bb9b73e', '76609698b9014d08a32575218a3e407a', 'c95011b3da814ad5bc9a3961fba2cb01', '700eb2da8e0540f19e096c784f9439fc', '400eb2da8e0540f19e096c784f9439fc', '61012d0a98e6434ca04499a509da1875', '21012d0a98e6434ca04499a509da1875', '8ab50fd71f6d4a2fad3586ffc89fe45c', '440351c8b88949829823d971de5703ae', '778ac545d0c543f49ee3b842fe4bd514', 'a0345eea24234f588933dbac7d305b4f', '22a80162ef2a4552b641a8c4a52d90be', '394d6dd0-7dbe-4d77-92c6-2af7f8314329', '7eeb4d50-dba0-4cf8-a393-0d93a5ad2c69', 'eb95d369-b91a-43d0-bb78-0100a7ae19ae', '08771c82-b9d9-4a6c-9585-f3ac886962f9', '09866849-c8af-4423-812a-a376d8af84f0', 'google_speech_api', 'deepgram'))"
      ]
     },
     "execution_count": 12,
     "metadata": {},
     "output_type": "execute_result"
    }
   ],
   "source": [
    "meeting_graph.nodes"
   ]
  },
  {
   "cell_type": "code",
   "execution_count": 13,
   "metadata": {},
   "outputs": [
    {
     "data": {
      "text/plain": [
       "OutEdgeView([('6baa3490-69d6-48fc-b5d4-3994e3e8fae0', 'b5d4-3994e3e8fae0'), ('b5d4-3994e3e8fae0', '0f1aa05f2e944142a18974369bb9b73e'), ('b5d4-3994e3e8fae0', '76609698b9014d08a32575218a3e407a'), ('b5d4-3994e3e8fae0', 'c95011b3da814ad5bc9a3961fba2cb01'), ('b5d4-3994e3e8fae0', '700eb2da8e0540f19e096c784f9439fc'), ('b5d4-3994e3e8fae0', '400eb2da8e0540f19e096c784f9439fc'), ('b5d4-3994e3e8fae0', '61012d0a98e6434ca04499a509da1875'), ('b5d4-3994e3e8fae0', '21012d0a98e6434ca04499a509da1875'), ('b5d4-3994e3e8fae0', '8ab50fd71f6d4a2fad3586ffc89fe45c'), ('b5d4-3994e3e8fae0', '440351c8b88949829823d971de5703ae'), ('b5d4-3994e3e8fae0', '778ac545d0c543f49ee3b842fe4bd514'), ('b5d4-3994e3e8fae0', 'a0345eea24234f588933dbac7d305b4f'), ('b5d4-3994e3e8fae0', '22a80162ef2a4552b641a8c4a52d90be'), ('0f1aa05f2e944142a18974369bb9b73e', '394d6dd0-7dbe-4d77-92c6-2af7f8314329'), ('0f1aa05f2e944142a18974369bb9b73e', 'google_speech_api'), ('76609698b9014d08a32575218a3e407a', '394d6dd0-7dbe-4d77-92c6-2af7f8314329'), ('76609698b9014d08a32575218a3e407a', 'deepgram'), ('c95011b3da814ad5bc9a3961fba2cb01', '7eeb4d50-dba0-4cf8-a393-0d93a5ad2c69'), ('c95011b3da814ad5bc9a3961fba2cb01', 'deepgram'), ('700eb2da8e0540f19e096c784f9439fc', '7eeb4d50-dba0-4cf8-a393-0d93a5ad2c69'), ('700eb2da8e0540f19e096c784f9439fc', 'google_speech_api'), ('400eb2da8e0540f19e096c784f9439fc', '7eeb4d50-dba0-4cf8-a393-0d93a5ad2c69'), ('400eb2da8e0540f19e096c784f9439fc', 'google_speech_api'), ('61012d0a98e6434ca04499a509da1875', 'eb95d369-b91a-43d0-bb78-0100a7ae19ae'), ('61012d0a98e6434ca04499a509da1875', 'google_speech_api'), ('21012d0a98e6434ca04499a509da1875', 'eb95d369-b91a-43d0-bb78-0100a7ae19ae'), ('21012d0a98e6434ca04499a509da1875', 'google_speech_api'), ('8ab50fd71f6d4a2fad3586ffc89fe45c', '08771c82-b9d9-4a6c-9585-f3ac886962f9'), ('8ab50fd71f6d4a2fad3586ffc89fe45c', 'google_speech_api'), ('440351c8b88949829823d971de5703ae', '08771c82-b9d9-4a6c-9585-f3ac886962f9'), ('440351c8b88949829823d971de5703ae', 'deepgram'), ('778ac545d0c543f49ee3b842fe4bd514', '08771c82-b9d9-4a6c-9585-f3ac886962f9'), ('778ac545d0c543f49ee3b842fe4bd514', 'google_speech_api'), ('a0345eea24234f588933dbac7d305b4f', '08771c82-b9d9-4a6c-9585-f3ac886962f9'), ('a0345eea24234f588933dbac7d305b4f', 'google_speech_api'), ('22a80162ef2a4552b641a8c4a52d90be', '09866849-c8af-4423-812a-a376d8af84f0'), ('22a80162ef2a4552b641a8c4a52d90be', 'deepgram')])"
      ]
     },
     "execution_count": 13,
     "metadata": {},
     "output_type": "execute_result"
    }
   ],
   "source": [
    "meeting_graph.edges"
   ]
  },
  {
   "cell_type": "code",
   "execution_count": null,
   "metadata": {},
   "outputs": [],
   "source": [
    "plt.rcParams['figure.figsize']= [9, 10]\n",
    "def draw_graph(graph):\n",
    "    pos = nx.spring_layout(graph, k=0.2, iterations=20)\n",
    "    nx.draw_networkx(graph, pos=pos, arrows=False, with_labels=True, node_size=40, alpha=0.65, width=0.2,\n",
    "                     edge_color='b', font_size=11)\n",
    "    plt.title(\"Meeting graph\", fontsize=22, fontname='Arial')\n",
    "    plt.axis('off')\n",
    "    plt.show()"
   ]
  },
  {
   "cell_type": "code",
   "execution_count": null,
   "metadata": {},
   "outputs": [],
   "source": [
    "plt.rcParams['figure.figsize']= [10, 8]\n",
    "def draw_property_graph(G, node_values, node_list, measure_name):\n",
    "    pos = nx.spring_layout(G, k=0.2, iterations=20)\n",
    "    nodes=nx.draw_networkx_nodes(G, pos, node_size=100, cmap=plt.cm.viridis,node_color=node_values,nodelist=node_list, alpha=0.85)\n",
    "    nodes.set_norm(mcolors.SymLogNorm(linthresh=0.01, linscale=1))\n",
    "    edges=nx.draw_networkx_edges(G, pos, edge_color='r', alpha=0.1)\n",
    "    plt.title(measure_name, fontsize=22, fontname='Arial')\n",
    "    plt.colorbar(nodes)\n",
    "    plt.axis('off')\n",
    "    plt.show()"
   ]
  },
  {
   "cell_type": "code",
   "execution_count": null,
   "metadata": {},
   "outputs": [],
   "source": [
    "draw_graph(meeting_graph)"
   ]
  },
  {
   "cell_type": "markdown",
   "metadata": {},
   "source": [
    "## test the extension for writing"
   ]
  },
  {
   "cell_type": "code",
   "execution_count": null,
   "metadata": {},
   "outputs": [],
   "source": []
  },
  {
   "cell_type": "markdown",
   "metadata": {},
   "source": [
    "## Write to GEXF format"
   ]
  },
  {
   "cell_type": "code",
   "execution_count": null,
   "metadata": {},
   "outputs": [],
   "source": [
    "nx.write_gexf(meeting_graph, 'meeting_test.gexf')"
   ]
  },
  {
   "cell_type": "markdown",
   "metadata": {},
   "source": [
    "## Trying to visualize with Neo4j"
   ]
  },
  {
   "cell_type": "code",
   "execution_count": null,
   "metadata": {},
   "outputs": [],
   "source": [
    "import neonx"
   ]
  },
  {
   "cell_type": "code",
   "execution_count": null,
   "metadata": {},
   "outputs": [],
   "source": [
    "data = neonx.get_geoff(meeting_graph, \"LINKS_TO\")"
   ]
  },
  {
   "cell_type": "code",
   "execution_count": null,
   "metadata": {},
   "outputs": [],
   "source": [
    "data"
   ]
  },
  {
   "cell_type": "code",
   "execution_count": null,
   "metadata": {},
   "outputs": [],
   "source": [
    "results = neonx.write_to_neo(\"http://localhost:7474/db/data/\", meeting_graph, 'LINKS_TO')"
   ]
  },
  {
   "cell_type": "markdown",
   "metadata": {},
   "source": [
    "## Test `knowledge_graph`"
   ]
  },
  {
   "cell_type": "code",
   "execution_count": null,
   "metadata": {},
   "outputs": [],
   "source": [
    "from knowledge_graph import KnowledgeGraph"
   ]
  },
  {
   "cell_type": "code",
   "execution_count": null,
   "metadata": {},
   "outputs": [],
   "source": [
    "import networkx as nx"
   ]
  },
  {
   "cell_type": "code",
   "execution_count": null,
   "metadata": {},
   "outputs": [],
   "source": [
    "json_file = \"meeting_test.json\""
   ]
  },
  {
   "cell_type": "code",
   "execution_count": null,
   "metadata": {},
   "outputs": [],
   "source": [
    "kg = KnowledgeGraph()"
   ]
  },
  {
   "cell_type": "code",
   "execution_count": null,
   "metadata": {},
   "outputs": [],
   "source": [
    "request = kg.read_json(json_file)"
   ]
  },
  {
   "cell_type": "code",
   "execution_count": null,
   "metadata": {},
   "outputs": [],
   "source": [
    "context_info = request[\"contextId\"] + \":\" + request[\"instanceId\"]\n",
    "g = nx.DiGraph(graphId=context_info)"
   ]
  },
  {
   "cell_type": "code",
   "execution_count": null,
   "metadata": {},
   "outputs": [],
   "source": [
    "g = kg.populate_context_info(request=request, g=g)"
   ]
  },
  {
   "cell_type": "code",
   "execution_count": null,
   "metadata": {},
   "outputs": [],
   "source": [
    "g.nodes(data=True)"
   ]
  },
  {
   "cell_type": "code",
   "execution_count": null,
   "metadata": {},
   "outputs": [],
   "source": [
    "g = kg.populate_instance_info(request, g)"
   ]
  },
  {
   "cell_type": "code",
   "execution_count": null,
   "metadata": {},
   "outputs": [],
   "source": [
    "g.edges.data(\"relation\")"
   ]
  },
  {
   "cell_type": "code",
   "execution_count": null,
   "metadata": {},
   "outputs": [],
   "source": [
    "keyphrase = ['Google Mozilla', 'Rich', 'Opera', 'web RTC components', 'free open project', 'browser mobile platform', 'best serve', 'common initiative', 'rtc initiative', 'iOS devices']"
   ]
  },
  {
   "cell_type": "code",
   "execution_count": null,
   "metadata": {},
   "outputs": [],
   "source": [
    "pim_request = kg.read_json(\"pim_test.json\")"
   ]
  },
  {
   "cell_type": "code",
   "execution_count": null,
   "metadata": {},
   "outputs": [],
   "source": [
    "g = kg.populate_keyphrase_info(request=pim_request, keyphrase_list=keyphrase, g=g)"
   ]
  },
  {
   "cell_type": "code",
   "execution_count": null,
   "metadata": {},
   "outputs": [],
   "source": [
    "for e1, e2, r in g.edges.data():\n",
    "    if r.get(\"relation\") == \"hasKeywords\":\n",
    "        print(e1, e2, r)"
   ]
  },
  {
   "cell_type": "code",
   "execution_count": null,
   "metadata": {},
   "outputs": [],
   "source": [
    "g.number_of_nodes()"
   ]
  },
  {
   "cell_type": "code",
   "execution_count": null,
   "metadata": {},
   "outputs": [],
   "source": [
    "g.number_of_edges()"
   ]
  },
  {
   "cell_type": "code",
   "execution_count": null,
   "metadata": {},
   "outputs": [],
   "source": [
    "g_id = g.graph.get(\"graphId\")"
   ]
  },
  {
   "cell_type": "code",
   "execution_count": null,
   "metadata": {},
   "outputs": [],
   "source": [
    "nx.write_gexf(g, g_id+\".gexf\")"
   ]
  },
  {
   "cell_type": "markdown",
   "metadata": {},
   "source": [
    "## Testing s3 object"
   ]
  },
  {
   "cell_type": "code",
   "execution_count": null,
   "metadata": {},
   "outputs": [],
   "source": [
    "s3_file = \"01DB8DEW0YFYK0ZBP2Q3XR2YT1_5f89df0e-3631-4c64-a7ff-3bf0264c830f\""
   ]
  },
  {
   "cell_type": "code",
   "execution_count": null,
   "metadata": {},
   "outputs": [],
   "source": [
    "g2 = nx.read_gpickle(s3_file)"
   ]
  },
  {
   "cell_type": "code",
   "execution_count": null,
   "metadata": {},
   "outputs": [],
   "source": [
    "g2.graph.get(\"graphId\")"
   ]
  },
  {
   "cell_type": "code",
   "execution_count": null,
   "metadata": {},
   "outputs": [],
   "source": [
    "g2.number_of_nodes()"
   ]
  },
  {
   "cell_type": "code",
   "execution_count": null,
   "metadata": {},
   "outputs": [],
   "source": [
    "g2.number_of_edges()"
   ]
  },
  {
   "cell_type": "code",
   "execution_count": null,
   "metadata": {},
   "outputs": [],
   "source": [
    "list(g2.edges(data=True))"
   ]
  },
  {
   "cell_type": "code",
   "execution_count": null,
   "metadata": {},
   "outputs": [],
   "source": [
    "for e1, e2, r in g2.edges.data():\n",
    "    if r.get(\"relation\") == \"hasKeywords\":\n",
    "        print(e1, e2, r)"
   ]
  },
  {
   "cell_type": "code",
   "execution_count": null,
   "metadata": {},
   "outputs": [],
   "source": [
    "diff = set(list(g.edges()))- set(list(g2.edges()))"
   ]
  },
  {
   "cell_type": "code",
   "execution_count": null,
   "metadata": {},
   "outputs": [],
   "source": [
    "diff"
   ]
  },
  {
   "cell_type": "code",
   "execution_count": null,
   "metadata": {},
   "outputs": [],
   "source": [
    "diff_n = set(list(g.nodes()))- set(list(g2.nodes()))"
   ]
  },
  {
   "cell_type": "code",
   "execution_count": null,
   "metadata": {},
   "outputs": [],
   "source": [
    "diff_n"
   ]
  },
  {
   "cell_type": "code",
   "execution_count": null,
   "metadata": {},
   "outputs": [],
   "source": [
    "nx.write_gexf(g2, g2.graph.get(\"graphId\")+\".gexf\")"
   ]
  },
  {
   "cell_type": "markdown",
   "metadata": {},
   "source": [
    "## Query to get text from segments"
   ]
  },
  {
   "cell_type": "code",
   "execution_count": null,
   "metadata": {},
   "outputs": [],
   "source": [
    "for n1, l in g2.nodes(data=True):\n",
    "    if l.get(\"label\") == \"segmentId\":\n",
    "        print(n1)\n",
    "        print()\n",
    "        print(l.get(\"text\"))"
   ]
  },
  {
   "cell_type": "code",
   "execution_count": null,
   "metadata": {},
   "outputs": [],
   "source": [
    "import json as js"
   ]
  },
  {
   "cell_type": "code",
   "execution_count": null,
   "metadata": {},
   "outputs": [],
   "source": [
    "with open('pim.txt', 'r') as f:\n",
    "    pims = js.loads(f.read())"
   ]
  },
  {
   "cell_type": "code",
   "execution_count": null,
   "metadata": {},
   "outputs": [],
   "source": [
    "type(pims)"
   ]
  },
  {
   "cell_type": "code",
   "execution_count": null,
   "metadata": {},
   "outputs": [],
   "source": [
    "from graphrank import GraphRank\n",
    "from graphrank.utils import GraphUtils, TextPreprocess\n",
    "\n",
    "keyphrase_text = \"\"\n",
    "keyphrases_list = []\n",
    "keyphrases = []\n",
    "for index_pim in pims.keys():\n",
    "    keyphrase_text = \"\"\n",
    "    for seg in pims[index_pim]:\n",
    "        if seg != \"keyphrase\":\n",
    "            keyphrase_text += (' ' + ''.join([i for i in pims[index_pim][seg][0]]))\n",
    "            # print (keyphrase_text)\n",
    "    gr = GraphRank()\n",
    "    tp = TextPreprocess()\n",
    "    utils = GraphUtils()\n",
    "\n",
    "    original_tokens, pos_tuple, filtered_pos_tuple = tp.preprocess_text(keyphrase_text, filter_by_pos=True, stop_words=False)\n",
    "\n",
    "    word_graph = gr.build_word_graph(pos_tuple, window=4, reset_graph_context=False, preserve_common_words=False)\n",
    "\n",
    "    keyphrases = gr.get_keyphrases(word_graph, input_pos_text=pos_tuple, normalize_nodes='degree', descriptive=True, post_process_descriptive=True)\n",
    "    pims[index_pim]['keyphrase'] = [phrases for phrases, score in keyphrases]"
   ]
  },
  {
   "cell_type": "code",
   "execution_count": null,
   "metadata": {},
   "outputs": [],
   "source": [
    "pims"
   ]
  },
  {
   "cell_type": "code",
   "execution_count": null,
   "metadata": {},
   "outputs": [],
   "source": [
    "with open(\"pims_with_descriptive_keyphrase.json\", 'w+') as f:\n",
    "    f.write(js.dumps(pims))"
   ]
  },
  {
   "cell_type": "code",
   "execution_count": null,
   "metadata": {},
   "outputs": [],
   "source": [
    "js.dumps(pims)"
   ]
  },
  {
   "cell_type": "code",
   "execution_count": null,
   "metadata": {},
   "outputs": [],
   "source": []
  }
 ],
 "metadata": {
  "kernelspec": {
   "display_name": "Python 3",
   "language": "python",
   "name": "python3"
  },
  "language_info": {
   "codemirror_mode": {
    "name": "ipython",
    "version": 3
   },
   "file_extension": ".py",
   "mimetype": "text/x-python",
   "name": "python",
   "nbconvert_exporter": "python",
   "pygments_lexer": "ipython3",
   "version": "3.7.1"
  }
 },
 "nbformat": 4,
 "nbformat_minor": 2
}

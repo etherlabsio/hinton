{
 "cells": [
  {
   "cell_type": "markdown",
   "metadata": {},
   "source": [
    "# Add Utilities"
   ]
  },
  {
   "cell_type": "code",
   "execution_count": 6,
   "metadata": {},
   "outputs": [],
   "source": [
    "import os, sys\n",
    "sys.path.insert(0, '../../src')"
   ]
  },
  {
   "cell_type": "code",
   "execution_count": 2,
   "metadata": {},
   "outputs": [],
   "source": [
    "%load_ext autoreload\n",
    "%autoreload 2"
   ]
  },
  {
   "cell_type": "code",
   "execution_count": 3,
   "metadata": {},
   "outputs": [],
   "source": [
    "%matplotlib widget"
   ]
  },
  {
   "cell_type": "code",
   "execution_count": 4,
   "metadata": {},
   "outputs": [],
   "source": [
    "def sort_by_value(item_list, order='desc'):\n",
    "    \"\"\"\n",
    "    A utility function to sort lists by their value.\n",
    "    Args:\n",
    "        item_list:\n",
    "        order:\n",
    "\n",
    "    Returns:\n",
    "\n",
    "    \"\"\"\n",
    "\n",
    "    if order == 'desc':\n",
    "        sorted_list = sorted(item_list, key=lambda x: (x[1], x[0]), reverse=True)\n",
    "    else:\n",
    "        sorted_list = sorted(item_list, key=lambda x: (x[1], x[0]), reverse=False)\n",
    "\n",
    "    return sorted_list"
   ]
  },
  {
   "cell_type": "markdown",
   "metadata": {},
   "source": [
    "# Testing Custom graph"
   ]
  },
  {
   "cell_type": "code",
   "execution_count": 7,
   "metadata": {},
   "outputs": [
    {
     "name": "stderr",
     "output_type": "stream",
     "text": [
      "[nltk_data] Downloading package wordnet to\n",
      "[nltk_data]     /Users/shashank/nltk_data...\n",
      "[nltk_data]   Package wordnet is already up-to-date!\n"
     ]
    }
   ],
   "source": [
    "from graphrank.graphrank import GraphRank\n",
    "from graphrank.utils import GraphUtils, TextPreprocess\n",
    "from graphrank import dgraph as dg\n",
    "import keyphrase_extraction as kp\n",
    "import networkx as nx"
   ]
  },
  {
   "cell_type": "code",
   "execution_count": 5,
   "metadata": {},
   "outputs": [],
   "source": [
    "gr = GraphRank()\n",
    "tp = TextPreprocess()\n",
    "utils = GraphUtils()"
   ]
  },
  {
   "cell_type": "code",
   "execution_count": 9,
   "metadata": {},
   "outputs": [],
   "source": [
    "new_text = \"Initially my thought was that you ordered have an issue with in we see the memory leak Indians and all the period of time it kind of accumulates and crashes. So but this is not the the memory leak issue. It's a genuine kind of segmentation fault happened when the websocket connection got disclosed with the client, but somehow was not able to get the code for that. Probably let me negotiate more on that and see what could like find any clues or basically if you can't reproduce that issue.That's one thing called. Yeah, probably like if you're going to launch like just wanted to understand from the prior to from a perspective. Like if you want to launch with the support for Janus like shall we do like do you need to like probably we need to do some through testing and probably built on issues and probably kind of get money on things done to get the get the thing out or like won't support only Zoom as and no no will be primary.\"\n",
    "new_text = \"So last week whatever 16 years with respect to the playlist and DRM key, right? \" \\\n",
    "\"So I was able to test on Safari and chrome both wearing it was able to forward the cookies. \" \\\n",
    "\"I was just like trying to trace out the cookies whether it's cool being sent in the DRM ta PA all those things. \" \\\n",
    "\"So one thing is I had tested it, but I wanted the Deep also to test from IOS app also whether we can pass the cookies. \" \\\n",
    "\"So once that is done, it is like tested it but I just want him to also confirm that part that it can send a cookies from it was have also know but what I am right now stuck is the Eco meat to a double AC p-- a Gateway. \" \\\n",
    "\"It's not able to proxying it actually. \"\\\n",
    "\"So as you spend like I was trying to do with the goatee also, there also is not able to do it the same problem is that this something which is going.\" \\\n",
    "\"Hang on, okay.\""
   ]
  },
  {
   "cell_type": "code",
   "execution_count": 11,
   "metadata": {},
   "outputs": [],
   "source": [
    "word_graph = kp.build_custom_graph([new_text])"
   ]
  },
  {
   "cell_type": "code",
   "execution_count": 12,
   "metadata": {},
   "outputs": [
    {
     "data": {
      "text/plain": [
       "NodeView(('week', 'years', 'respect', 'playlist', 'drm', 'key', 'safari', 'cookies', 'cool', 'pa', 'deep', 'ios', 'app', 'stuck', 'eco', 'meat', 'double', 'ac', 'gateway', 'goatee', 'problem'))"
      ]
     },
     "execution_count": 12,
     "metadata": {},
     "output_type": "execute_result"
    }
   ],
   "source": [
    "word_graph.nodes()"
   ]
  },
  {
   "cell_type": "code",
   "execution_count": 14,
   "metadata": {},
   "outputs": [],
   "source": [
    "keyphrases = kp.get_custom_keyphrases(word_graph)"
   ]
  },
  {
   "cell_type": "code",
   "execution_count": 15,
   "metadata": {},
   "outputs": [
    {
     "data": {
      "text/plain": [
       "[('ios app', 0.025693100915893403),\n",
       " ('double ac', 0.024840489410996154),\n",
       " ('eco meat', 0.023681704973582587),\n",
       " ('drm key', 0.023075865117243112),\n",
       " ('problem', 0.02477826617356075),\n",
       " ('goatee', 0.02046870608967078),\n",
       " ('gateway', 0.015316573833184105),\n",
       " ('week', 0.01365641827332166),\n",
       " ('safari', 0.013445110654064615),\n",
       " ('deep', 0.012846550457946701),\n",
       " ('pa', 0.012155604703065113),\n",
       " ('cool', 0.012155604703065113),\n",
       " ('years', 0.01202401969615893),\n",
       " ('stuck', 0.011801430472019604),\n",
       " ('playlist', 0.011730872171876851),\n",
       " ('respect', 0.011709260678902326),\n",
       " ('cookies', 0.011255125648218471)]"
      ]
     },
     "execution_count": 15,
     "metadata": {},
     "output_type": "execute_result"
    }
   ],
   "source": [
    "keyphrases"
   ]
  }
 ],
 "metadata": {
  "kernelspec": {
   "display_name": "textrank",
   "language": "python",
   "name": "textrank"
  },
  "language_info": {
   "codemirror_mode": {
    "name": "ipython",
    "version": 3
   },
   "file_extension": ".py",
   "mimetype": "text/x-python",
   "name": "python",
   "nbconvert_exporter": "python",
   "pygments_lexer": "ipython3",
   "version": "3.6.8"
  }
 },
 "nbformat": 4,
 "nbformat_minor": 2
}

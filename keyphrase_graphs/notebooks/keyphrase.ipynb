{
 "cells": [
  {
   "cell_type": "markdown",
   "metadata": {
    "toc-hr-collapsed": false
   },
   "source": [
    "# TextRank (PageRank)-based Keyphrase extraction"
   ]
  },
  {
   "cell_type": "code",
   "execution_count": 38,
   "metadata": {},
   "outputs": [],
   "source": [
    "from text_preprocessing import preprocess as tp\n",
    "import jgtextrank as tr\n",
    "import networkx as nx\n",
    "import matplotlib.pyplot as plt"
   ]
  },
  {
   "cell_type": "code",
   "execution_count": 2,
   "metadata": {},
   "outputs": [],
   "source": [
    "# Using `widget` for graph interaction\n",
    "# Use `inline` or `notebook` if this throws error\n",
    "%matplotlib widget"
   ]
  },
  {
   "cell_type": "code",
   "execution_count": 3,
   "metadata": {},
   "outputs": [],
   "source": [
    "eg_text = \"Compatibility of systems of linear constraints over the set of natural numbers. \" \\\n",
    "                       \"Criteria of compatibility of a system of linear Diophantine equations, strict inequations, \" \\\n",
    "                       \"and nonstrict inequations are considered. Upper bounds for components of a minimal set of \" \\\n",
    "                       \"solutions and algorithms of construction of minimal generating sets of solutions for all \" \\\n",
    "                       \"types of systems are given. These criteria and the corresponding algorithms for \" \\\n",
    "                       \"constructing a minimal supporting set of solutions can be used in solving all the \" \\\n",
    "                       \"considered types systems and systems of mixed types.\""
   ]
  },
  {
   "cell_type": "code",
   "execution_count": 4,
   "metadata": {},
   "outputs": [],
   "source": [
    "ether_text = \"So last week whatever 16 years with respect to the playlist and DRM key, right? \" \\\n",
    "\"So I was able to test on Safari and chrome both wearing it was able to forward the cookies. \" \\\n",
    "\"I was just like trying to trace out the cookies whether it's cool being sent in the DRM ta PA all those things. \" \\\n",
    "\"So one thing is I had tested it, but I wanted the Deep also to test from IOS app also whether we can pass the cookies. \" \\\n",
    "\"So once that is done, it is like tested it but I just want him to also confirm that part that it can send a cookies from it was have also know but what I am right now stuck is the Eco meat to a double AC p-- a Gateway. \" \\\n",
    "\"It's not able to proxying it actually. \"\\\n",
    "\"So as you spend like I was trying to do with the goatee also, there also is not able to do it the same problem is that this something which is going.\" \\\n",
    "\"Hang on, okay.\""
   ]
  },
  {
   "cell_type": "markdown",
   "metadata": {},
   "source": [
    "## Preprocess & Tokenize text\n",
    "Preprocessing handles:\n",
    "- Remove punctuations\n",
    "- Expand contractions\n",
    "- Remove irrelevant symbols\n",
    "- Change dates\n",
    "- Change numbers"
   ]
  },
  {
   "cell_type": "code",
   "execution_count": 13,
   "metadata": {},
   "outputs": [],
   "source": [
    "eg = tp.preprocess(eg_text, stop_words=False, word_tokenize=True, remove_punct=True)"
   ]
  },
  {
   "cell_type": "code",
   "execution_count": 14,
   "metadata": {},
   "outputs": [
    {
     "data": {
      "text/plain": [
       "[['Compatibility',\n",
       "  'of',\n",
       "  'systems',\n",
       "  'of',\n",
       "  'linear',\n",
       "  'constraints',\n",
       "  'over',\n",
       "  'the',\n",
       "  'set',\n",
       "  'of',\n",
       "  'natural',\n",
       "  'numbers',\n",
       "  '.'],\n",
       " ['Criteria',\n",
       "  'of',\n",
       "  'compatibility',\n",
       "  'of',\n",
       "  'a',\n",
       "  'system',\n",
       "  'of',\n",
       "  'linear',\n",
       "  'Diophantine',\n",
       "  'equations',\n",
       "  ',',\n",
       "  'strict',\n",
       "  'inequations',\n",
       "  ',',\n",
       "  'and',\n",
       "  'nonstrict',\n",
       "  'inequations',\n",
       "  'are',\n",
       "  'considered',\n",
       "  '.'],\n",
       " ['Upper',\n",
       "  'bounds',\n",
       "  'for',\n",
       "  'components',\n",
       "  'of',\n",
       "  'a',\n",
       "  'minimal',\n",
       "  'set',\n",
       "  'of',\n",
       "  'solutions',\n",
       "  'and',\n",
       "  'algorithms',\n",
       "  'of',\n",
       "  'construction',\n",
       "  'of',\n",
       "  'minimal',\n",
       "  'generating',\n",
       "  'sets',\n",
       "  'of',\n",
       "  'solutions',\n",
       "  'for',\n",
       "  'all',\n",
       "  'types',\n",
       "  'of',\n",
       "  'systems',\n",
       "  'are',\n",
       "  'given',\n",
       "  '.'],\n",
       " ['These',\n",
       "  'criteria',\n",
       "  'and',\n",
       "  'the',\n",
       "  'corresponding',\n",
       "  'algorithms',\n",
       "  'for',\n",
       "  'constructing',\n",
       "  'a',\n",
       "  'minimal',\n",
       "  'supporting',\n",
       "  'set',\n",
       "  'of',\n",
       "  'solutions',\n",
       "  'can',\n",
       "  'be',\n",
       "  'used',\n",
       "  'in',\n",
       "  'solving',\n",
       "  'all',\n",
       "  'the',\n",
       "  'considered',\n",
       "  'types',\n",
       "  'systems',\n",
       "  'and',\n",
       "  'systems',\n",
       "  'of',\n",
       "  'mixed',\n",
       "  'types',\n",
       "  '.']]"
      ]
     },
     "execution_count": 14,
     "metadata": {},
     "output_type": "execute_result"
    }
   ],
   "source": [
    "eg"
   ]
  },
  {
   "cell_type": "markdown",
   "metadata": {},
   "source": [
    "## Check Keyphrases\n",
    "A Context-window of **4** is used here to build a co-occurence graph.\n",
    "\n",
    "`log_norm_max` is used as the weighted metric for extracting keyphrases"
   ]
  },
  {
   "cell_type": "code",
   "execution_count": 42,
   "metadata": {},
   "outputs": [
    {
     "data": {
      "text/plain": [
       "[('minimal set', 0.17424),\n",
       " ('linear constraints', 0.14623),\n",
       " ('types systems', 0.14062),\n",
       " ('minimal supporting set', 0.10993),\n",
       " ('mixed types', 0.10781),\n",
       " ('corresponding algorithms', 0.10772),\n",
       " ('linear diophantine equations', 0.09226),\n",
       " ('strict inequations', 0.08268),\n",
       " ('nonstrict inequations', 0.08268),\n",
       " ('set', 0.07504),\n",
       " ('natural numbers', 0.06723),\n",
       " ('systems', 0.06056),\n",
       " ('minimal', 0.06021),\n",
       " ('solutions', 0.0563),\n",
       " ('types', 0.04643),\n",
       " ('algorithms', 0.04639),\n",
       " ('compatibility', 0.04273),\n",
       " ('criteria', 0.04233),\n",
       " ('system', 0.03414),\n",
       " ('sets', 0.03223),\n",
       " ('construction', 0.0322),\n",
       " ('components', 0.02828),\n",
       " ('upper', 0.02368)]"
      ]
     },
     "execution_count": 42,
     "metadata": {},
     "output_type": "execute_result"
    }
   ],
   "source": [
    "tr.keywords_extraction_from_segmented_corpus(eg, \n",
    "                        top_p=1, \n",
    "                        directed=False,\n",
    "                        conn_with_original_ctx=False,\n",
    "                        window=4, \n",
    "                        weight_comb='log_norm_max')[0]"
   ]
  },
  {
   "cell_type": "markdown",
   "metadata": {
    "toc-hr-collapsed": false
   },
   "source": [
    "## Build a Co-occurence graph to visually inspect nodes & edges"
   ]
  },
  {
   "cell_type": "code",
   "execution_count": 43,
   "metadata": {},
   "outputs": [],
   "source": [
    "eg_proc_text = tr.preprocessing(eg_text)\n",
    "eg_graph, eg_tokens = tr.build_cooccurrence_graph(eg_proc_text, window=4)"
   ]
  },
  {
   "cell_type": "code",
   "execution_count": 44,
   "metadata": {},
   "outputs": [
    {
     "data": {
      "application/vnd.jupyter.widget-view+json": {
       "model_id": "d8fe1e71064a42798c9269c45d2215a1",
       "version_major": 2,
       "version_minor": 0
      },
      "text/plain": [
       "FigureCanvasNbAgg()"
      ]
     },
     "metadata": {},
     "output_type": "display_data"
    },
    {
     "name": "stderr",
     "output_type": "stream",
     "text": [
      "/Users/shashank/anaconda3/envs/textrank/lib/python3.6/site-packages/networkx/drawing/nx_pylab.py:611: MatplotlibDeprecationWarning: isinstance(..., numbers.Number)\n",
      "  if cb.is_numlike(alpha):\n"
     ]
    }
   ],
   "source": [
    "plt.figure(figsize=(8,6))\n",
    "plt.axis('off')\n",
    "pos = nx.spring_layout(eg_graph, k =0.2, iterations = 20)\n",
    "nx.draw_networkx(eg_graph, pos=pos, arrows=True, with_labels=True, node_size = 15, alpha = 0.65, width = 0.2, edge_color = 'b', font_size=10)\n",
    "plt.show()"
   ]
  },
  {
   "cell_type": "markdown",
   "metadata": {},
   "source": [
    "## Graph Analysis\n",
    "\n",
    "Graph operations: \n",
    "- Betweenness score\n",
    "- Closeness score\n",
    "- Degree score\n",
    "- No. of Neighbors\n",
    "- No. of nodes and edges"
   ]
  },
  {
   "cell_type": "code",
   "execution_count": 45,
   "metadata": {},
   "outputs": [],
   "source": [
    "def sort_dict_by_value(graph_metric):\n",
    "    \"\"\"\n",
    "    Args:\n",
    "        graph_metric: `dict` form indicating the graph metric output\n",
    "    Returns:\n",
    "        Sorted list based on the dict values.\n",
    "    \"\"\"\n",
    "    b = graph_metric\n",
    "    return sorted(b.items(), key=lambda x: (-x[1],x[0]))"
   ]
  },
  {
   "cell_type": "markdown",
   "metadata": {},
   "source": [
    "### Betweenness analysis"
   ]
  },
  {
   "cell_type": "code",
   "execution_count": 46,
   "metadata": {},
   "outputs": [],
   "source": [
    "b = nx.betweenness_centrality(eg_graph)"
   ]
  },
  {
   "cell_type": "code",
   "execution_count": 47,
   "metadata": {},
   "outputs": [
    {
     "data": {
      "text/plain": [
       "[('set', 0.46240942028985516),\n",
       " ('linear', 0.407548309178744),\n",
       " ('solutions', 0.125),\n",
       " ('algorithms', 0.11609299516908214),\n",
       " ('strict', 0.09631642512077301),\n",
       " ('systems', 0.08816425120772947),\n",
       " ('components', 0.08333333333333333),\n",
       " ('minimal', 0.08303140096618357),\n",
       " ('compatibility', 0.06748188405797101),\n",
       " ('types', 0.046799516908212546),\n",
       " ('criteria', 0.04091183574879227),\n",
       " ('diophantine', 0.028049516908212575),\n",
       " ('equations', 0.028049516908212575),\n",
       " ('constraints', 0.017814009661835748),\n",
       " ('system', 0.013466183574879227),\n",
       " ('inequations', 0.005072463768115942),\n",
       " ('construction', 0.004227053140096619),\n",
       " ('corresponding', 0.0),\n",
       " ('mixed', 0.0),\n",
       " ('natural', 0.0),\n",
       " ('nonstrict', 0.0),\n",
       " ('numbers', 0.0),\n",
       " ('sets', 0.0),\n",
       " ('supporting', 0.0),\n",
       " ('upper', 0.0)]"
      ]
     },
     "execution_count": 47,
     "metadata": {},
     "output_type": "execute_result"
    }
   ],
   "source": [
    "sort_dict_by_value(b)"
   ]
  },
  {
   "cell_type": "markdown",
   "metadata": {},
   "source": [
    "### Check Neighbours of nodes"
   ]
  },
  {
   "cell_type": "code",
   "execution_count": 49,
   "metadata": {},
   "outputs": [
    {
     "data": {
      "text/plain": [
       "['inequations', 'strict', 'system', 'equations', 'linear']"
      ]
     },
     "execution_count": 49,
     "metadata": {},
     "output_type": "execute_result"
    }
   ],
   "source": [
    "list(eg_graph.neighbors('diophantine'))"
   ]
  },
  {
   "cell_type": "markdown",
   "metadata": {},
   "source": [
    "### Check edge connections"
   ]
  },
  {
   "cell_type": "code",
   "execution_count": 50,
   "metadata": {},
   "outputs": [
    {
     "data": {
      "text/plain": [
       "EdgeDataView([('strict', 'inequations'), ('strict', 'diophantine'), ('strict', 'equations'), ('strict', 'nonstrict'), ('strict', 'linear')])"
      ]
     },
     "execution_count": 50,
     "metadata": {},
     "output_type": "execute_result"
    }
   ],
   "source": [
    "eg_graph.edges('strict')"
   ]
  },
  {
   "cell_type": "markdown",
   "metadata": {
    "toc-hr-collapsed": false
   },
   "source": [
    "# Preprocessing meetings"
   ]
  },
  {
   "cell_type": "code",
   "execution_count": 19,
   "metadata": {},
   "outputs": [],
   "source": [
    "import numpy as np\n",
    "import pandas as pd\n",
    "# from spacy.lang.en.stop_words import STOP_WORDS"
   ]
  },
  {
   "cell_type": "code",
   "execution_count": 20,
   "metadata": {},
   "outputs": [],
   "source": [
    "meeting_transcripts = \"data/meeting_transcripts.csv\"\n",
    "trans_df = pd.read_csv(meeting_transcripts)"
   ]
  },
  {
   "cell_type": "code",
   "execution_count": 21,
   "metadata": {},
   "outputs": [],
   "source": [
    "meeting_id = \"fe9f49175b154418b06399d34ffbf37e\""
   ]
  },
  {
   "cell_type": "code",
   "execution_count": 22,
   "metadata": {},
   "outputs": [],
   "source": [
    "def preprocess_meetings(df, meeting_id, min_sent_len):\n",
    "    curr_meeting_df = getCurrentMeetingByMeetingID(df, meeting_id)\n",
    "    conversation_list, chat_len_list = getConversations(curr_meeting_df, min_sent_len)\n",
    "    out_df = pd.DataFrame({'originalText':conversation_list, 'conversation_len':chat_len_list}, index=None)\n",
    "    return out_df\n",
    "\n",
    "def getConversations(transcriptsDF, min_sent_len=0):\n",
    "    conversation_list = list()\n",
    "    chat_len_list = list()\n",
    "\n",
    "    for i in range(len(transcriptsDF)):\n",
    "        t_conversation = transcriptsDF.iloc[i]['originalText']\n",
    "        t_conversation_filt = set(t_conversation.split(' '))\n",
    "        # filt_sent = t_conversation_filt.difference(stop_words)\n",
    "\n",
    "        if len(t_conversation_filt) > min_sent_len:\n",
    "            conversation_list.append(t_conversation)\n",
    "            chat_len_list.append(len(t_conversation_filt))\n",
    "    return conversation_list, chat_len_list\n",
    "\n",
    "def getCurrentMeetingByMeetingID(meeting_df, meeting_id):\n",
    "    curr_meeting_df = meeting_df[meeting_df['meetingId'] == meeting_id]\n",
    "    curr_meeting_df.dropna(inplace=True, axis=0)\n",
    "    return curr_meeting_df"
   ]
  },
  {
   "cell_type": "code",
   "execution_count": 23,
   "metadata": {},
   "outputs": [
    {
     "name": "stderr",
     "output_type": "stream",
     "text": [
      "/Users/shashank/anaconda3/envs/textrank/lib/python3.6/site-packages/ipykernel_launcher.py:23: SettingWithCopyWarning: \n",
      "A value is trying to be set on a copy of a slice from a DataFrame\n",
      "\n",
      "See the caveats in the documentation: http://pandas.pydata.org/pandas-docs/stable/indexing.html#indexing-view-versus-copy\n"
     ]
    }
   ],
   "source": [
    "out_df = preprocess_meetings(trans_df, meeting_id, min_sent_len=0)"
   ]
  },
  {
   "cell_type": "code",
   "execution_count": 24,
   "metadata": {},
   "outputs": [],
   "source": [
    "#import nltk\n",
    "doc = ''\n",
    "#doc_context = []\n",
    "for i in range(len(out_df)):\n",
    "    text = out_df.iloc[i]['originalText']\n",
    "    doc = doc + text + ' '\n",
    "    # doc_context.append(token)"
   ]
  },
  {
   "cell_type": "code",
   "execution_count": 25,
   "metadata": {},
   "outputs": [
    {
     "data": {
      "text/plain": [
       "\"Okay Right. One thing. Yeah sure. Yeah, yeah so under two that two the web is is done part, but does require coding. Can somebody knew the. Yeah yeah yeah, go ahead. Based basically list respect to the call already getting and I'm making sure that the ether recording board is disconnect. Once the meeting is over those changes is also have been tested there is one issue that I found out while testing the entire. So when ether recording client is the last one in the meeting and we should meeting command the client is client is not able to handle that and disconnect all from the call. So usually suggested what you happen is in the we used to delete the room and from the room the comes to the recording client to disconnect and also on side when you do an end meeting for all that from the side to client and that's way it works and the in the client disconnect from the call it. So we need to kind of fix that so a couple of options that we were discussing is one is handling the event like the mostly and in the recording design on David capture code and then cut down to the recording client. So that that it so that you understand that she has to describe the call the second one is okay like we initially just we need some. Needs to tell the clients that you need to go with release right? Yes it you. To handle that even properly and disconnect. So what I mean. That how are we thinking about it. But we can discuss it for one way would we to just generate events that gets handled by the recording clients right that can have like a look back it like used to doesn't a row back end that's one to kill itself and is able to handle. Yeah we need to. Have a but we handle the and basically yeah so we do and of I was discussing Karthik well like we do invest even today we capture code but the browser code was not handling that say that event. So we need to feel out that can be June and the and the client can disconnect calling from call yeah, that's one of the approach on the second process when we that condition we you know zoom API to end them. I think so that it gives from the server itself, but more appropriate solution would be the recording client handling that event and disconnect from the corporation. Yes. So I would be I would be kind of that issue fixing that issue my full back today we should have that but apart from that yeah yeah, the most of the tasks are been also I think what seems call of the machine that do you know. Is on slack negotiation yeah he did mention that he. Doing the requirements is for that discussed couple of approaches and respect to how the the the call UrL l has needs to be past to the ether end all so for the mentioned by he start integrating with look the them have went for working on. Yeah, sure. You yeah. So the my sai I able to I the core setting but it's that we'll to review that. So I have just understand that with that using Lambda function is working frame. So I just like I need to staging and then. Then take the review discussing for from the core part okay right. Okay so. Basically sending is the review with Karthik and integrated to staging right but bring. Version is as its working for when I have testing independently lambda function interface working fine. Okay. Yep right? Okay or database yeah. Could able to do all the coding for I think run along with buyers. I took some inputs on the and I fixed almost everything I just review one again now I'm it's so good to all for the staging. I feel is also. So you doing getting completed as well yes. I think. Sanity to you so after initial test will deploy it on staging and cyber by side will the code. Saw your comment about the second channel right? Yeah and it is checking. We can see it on segment and Google Analytics website for after the call maybe we can. Kind of we can to do some yeah yeah okay. Alright when want run yeah. To make interact one the language model. So if we just delete the libraries model production because we have some features in the model that we have sit so my are generating a new model once it is there we will put it into production. So that's like we just figured out that it's not really consistent i see okay. I so he's is not on the call he must be somewhere around, but he started writing. So it should be done by entered up the day day and then we will just run one more sanity test and be deployed into staging the but but all the engineering related challenges that that that need to write this for deep language based such already and then so which is already staging so we did not see any deployment issues when we moving in production. Okay got. Yeah right? So the second thing. We are also working on the key phrase team phrases on the multiple tasks under that so such major and so are working on hosting so so we will get a clear picture of the flow by by early next week. So which means we'll have our own. I mean at least the we were of key phrases that are coming everything like channel minds cross meeting and all those things and then we will plan to test it on. Then eventually we put it staging. Okay, but ready. That is a plan to push that into yeah that will go so what our has. For so it should be yeah so this is like this is like the more stable one like the bigger pieces extraction for a longer. I mean. Work on this field okay okay? Yeah also we have started on web for use cases so so once we have that there is list each after each of the URL in in the executives like has some hundreds of articles seven at least in age of times to hundred. So I started creating it yesterday once once we have enough content that is the one domain we will we'll take it to the language party writing and everything to that loop got it. Okay. Yeah. Okay. Try for we want for this a bullets. Hello. The the in now so yesterday yesterday today I will dont keep this extraction. So this putting written inside a request test a different cluster which is basically very memory intensive discussed. So is the in production currently but there is an open here and I got two comments from Karthik. So I was fixing those. So today's nine is to fix those review comments domains and also put ether and hermes service on our under and internally anything okay so that is done also along with that and and part as well so. Space one and and that on there these channel minds. And yeah the hermes and along with the I think given recorder and made claim will be. Yeah okay and now come that. Ready nice. I mean they I have been go changes so I need to update the appear for that okay. Yeah. So got it correctly the key service is using the existing knife. Okay okay yeah, so maybe by Friday and I start on with working on stay in that Sai I up when you staging. And and also it updated the staging. Regarding what what as a for other items within best so we be and I'll keep updating on that card yeah. From okay. With the is. I. Regarding that applications service was just trying to be you just to potential database. So so I I was able to do it but not completely but most of the time I spent on trying to you from the goal line version which everybody uses to build the hermes call right so it used to be like a local needs to build that was it used to build the hermes we is to put it in the adapter. So but I was not able to do it because of the dependency on ether service in so we have to pull the private deposit recording and on six week that took some time. But otherwise he was able to get the service image, but it's not completely tested. So probably today can merge those changes and push you to staging at least okay just the authentication service then further after that I will just work on bringing up some files to create a in gateway. Okay got it. When like to move more point do we actually start to the API will take some. Time link once this is done and but seven meaning gives ready buy those things think the is also already already and let me get the code review for slam function and this probably by tomorrow. I can just give you the exact timeline. Okay yeah. Right. Merchants Talk about ios. information I want to talk about iOS.  So I'm looking on creating view and like we'll discussed we'll be able to enter meeting number and simply be able to go to the playback that call and we'll put the markers view that and the will also to be able to create a a marker so I working on that okay. Yeah, you can hear me right? So I created on Monday it was regarding some manufacturing changes code. The of some of the colors and today I'm am working on the user so I update and. Later. Thank you okay one other thing that we. We should remember bunch of other things but that the one that there was one thing about the production issue what some who not going through time those whatever them. Okay. Alright so just remember that's one thing that we should doing make sure that we can mean that so that close so that so there there two problems one was because the incorrect requirements and selling products production environment in of summary that be fixed and among them there was one and then no summary came on because of the show that's that's why I do back too. I'll just create a full to do it. Yeah and what action items to take to the one discuss to around what will what I was thinking was that if we can get the time or rendering down first, then that that'll be cancel yeah. So that one is finished on and then we can handle that the actual process. Richard remember I know I visit a bunch of other things but that remember that it was one thing about the there's a production issue about somebody's not going through the time of handling right? I'm going to read a post mortem both of them. Okay. Alright, so just remember that's one thing that we should make sure that that and there are two problems one was because they were Incorrect deployments and in production direct causal lack of somebody that will be sex and among them. There was one time there's no somebody came on because of the actually actually that's what I see in addition to the one described previously with respect to the landscape around what went wrong. What I was thinking was that if we can get the time off trembling done first, then that'll be a catch-all.Yeah, that make it so that when you finish it off and then we can handle that the actual a synchronous asynchronous. You need to related things if that is a like will make sure that after like to our three are after the column get the we need to know it like anyway, we'll talk about that. But my cancel it at a time. Yeah. However, how I a so then somebody is always resolved. Yeah what a meeting. I think that's it right and did missing any anyone. Right thank you guys. Regarding authentication Service. I was just trying to bring up a new Docker file to just run it as an independent service. So I was able to do it but not completely but most of the time I spent on trying to use uniform the golang version which everybody uses to build Hermes repository, right? So it used to be like a locally be used to build the repository locally used to build a harmonious and we used to put it in the docker. So but I was not able to do it because of the dependency on ether service and Hermes so we have to pull the private repository code and all the sexual that took some time. But otherwise like I was able to get the out service Docker image and but it is not completely tested yet. So probably today I can merge those changes or and push it to stage in at least here.Okay, just authentication Service. So then further after that I will just work on bringing up some yawm Al file to create apis in apa Gateway. Okay. Got it. Have a mechanism within we handle the sick tomasi guilty one pesky. That's so yeah, so we do and of us as I was discussing Karthik as well like we do Center system or even today we capture core but the browser code was not handling that I'm say that particular event. So we need to see how that can be achieved and the kind of and the gland can disconnect increase fully from the call. Yeah, that's one of the approach and the second approach is when we detect that condition. We invoke assume a PA to end the meeting so that it gets disconnected from the server itself. But a more appropriate solution would be the recording client handling that event and disconnected from the coal graciously. So I would be so I would be kind of that issue fixing that issue by awful. But today we should have that but. But from that, yeah, the most of the tasks have been done now. Also I think bomb she is not the recalled of the actually do you know?.  The internal LDN BC s are in our merge now so yesterday yesterday. I worked on keyphrase extraction service putting it inside a cluster and a different cluster which is basically are very memory-intensive breasts are basically so that is then sigh that that's in production currently, but there is an open ear and I got few comments from Karthik. So I was fixing those. So today's plan is to fix those review comments and also put ether and Hermes service on a PC s on it under lb under internally will be okay. So yeah, once that is done also along with that and I will work on the next part as well. So the code cholesterol ready. Base basically breast with respect to the call auditing and making sure that the ether recording board disconnects. Once the meeting is over those changes also have been tested there is one issue that I found out while testing the entire end-to-end scenario is so when ether recording client is the last one in the meeting and we should end meeting command. The client is client is not able to handle that and disconnect voluntarily from the call. So usually traditionally what used to happen is in the Janus at least we used to delete the room and from the room the signal comes to the recording client to disconnect and also on some side when you do an end meeting for all the disconnection happens from the server side the client side and that's why it works the reverse way. We're in the client voluntarily disconnect from the on the call does not work today. So. We need to kind of fix that. So couple of options that we are discussing is one is handling the event like the system of secant in the recording client or they will capture core and then passing got onto the recording client so that it is so that it understands that it has to disconnect the call. The second one is okay, like we instantly.  \""
      ]
     },
     "execution_count": 25,
     "metadata": {},
     "output_type": "execute_result"
    }
   ],
   "source": [
    "doc"
   ]
  },
  {
   "cell_type": "code",
   "execution_count": 26,
   "metadata": {},
   "outputs": [],
   "source": [
    "doc_graph, doc_token = tr.build_cooccurrence_graph(tr.preprocessing(doc), window=4)"
   ]
  },
  {
   "cell_type": "code",
   "execution_count": 27,
   "metadata": {},
   "outputs": [
    {
     "data": {
      "application/vnd.jupyter.widget-view+json": {
       "model_id": "8fa785fc2e1847b6a56d3aa26660fc58",
       "version_major": 2,
       "version_minor": 0
      },
      "text/plain": [
       "FigureCanvasNbAgg()"
      ]
     },
     "metadata": {},
     "output_type": "display_data"
    },
    {
     "name": "stderr",
     "output_type": "stream",
     "text": [
      "/Users/shashank/anaconda3/envs/textrank/lib/python3.6/site-packages/networkx/drawing/nx_pylab.py:611: MatplotlibDeprecationWarning: isinstance(..., numbers.Number)\n",
      "  if cb.is_numlike(alpha):\n"
     ]
    }
   ],
   "source": [
    "plt.figure(figsize=(9,9))\n",
    "plt.axis('off')\n",
    "pos = nx.spring_layout(doc_graph, k=0.2, iterations = 20)\n",
    "nx.draw_networkx(doc_graph, pos=pos, arrows=True, with_labels=True, node_size = 55, alpha = 0.65, width = 0.2, edge_color = 'b', font_size=10)\n",
    "plt.show()"
   ]
  },
  {
   "cell_type": "code",
   "execution_count": 28,
   "metadata": {},
   "outputs": [
    {
     "name": "stdout",
     "output_type": "stream",
     "text": [
      "Graph nodes: 290, Graph edges: 610\n"
     ]
    }
   ],
   "source": [
    "print(\"Graph nodes: {}, Graph edges: {}\".format(doc_graph.number_of_nodes(), doc_graph.number_of_edges()))"
   ]
  },
  {
   "cell_type": "code",
   "execution_count": 35,
   "metadata": {},
   "outputs": [],
   "source": [
    "custom_stop_words = ['okay', 'yeah', 'right', 'i', 'today', 'could', 'able', 'one']"
   ]
  },
  {
   "cell_type": "code",
   "execution_count": 36,
   "metadata": {},
   "outputs": [
    {
     "data": {
      "text/plain": [
       "[('hermes service', 0.04057),\n",
       " ('key service', 0.04057),\n",
       " ('applications service', 0.04057),\n",
       " ('ether service', 0.04057),\n",
       " ('service image', 0.04057),\n",
       " ('authentication service', 0.04057),\n",
       " ('independent service', 0.04057),\n",
       " ('hermes call', 0.04017),\n",
       " ('call auditing', 0.04017),\n",
       " ('production issue', 0.0357),\n",
       " ('recording client', 0.03278),\n",
       " ('client disconnect', 0.03278),\n",
       " ('client side', 0.03278),\n",
       " ('capture code', 0.02948),\n",
       " ('browser code', 0.02948),\n",
       " ('code review', 0.02948),\n",
       " ('meeting command', 0.0273),\n",
       " ('end meeting', 0.0273),\n",
       " ('meeting number', 0.0273),\n",
       " ('service docker image', 0.0256),\n",
       " ('keyphrase extraction service', 0.0256),\n",
       " ('call url l', 0.02535),\n",
       " ('hermes repository', 0.02449),\n",
       " ('libraries model production', 0.02252),\n",
       " ('recording design', 0.02241),\n",
       " ('recording clients', 0.02241),\n",
       " ('ether recording client', 0.02068),\n",
       " ('other things', 0.0204),\n",
       " ('related things', 0.0204),\n",
       " ('event like', 0.01962),\n",
       " ('particular event', 0.01962),\n",
       " ('david capture code', 0.0186),\n",
       " ('manufacturing changes code', 0.0186),\n",
       " ('private repository code', 0.0186),\n",
       " ('code cholesterol ready', 0.0186),\n",
       " ('ether end', 0.01852),\n",
       " ('language model', 0.01813),\n",
       " ('deep language', 0.01813),\n",
       " ('selling products production environment', 0.01785),\n",
       " ('production direct causal lack', 0.01785),\n",
       " ('call', 0.0173),\n",
       " ('end meeting command', 0.01722),\n",
       " ('list respect', 0.01708),\n",
       " ('review comments', 0.01703),\n",
       " ('such major', 0.01584),\n",
       " ('production', 0.01537),\n",
       " ('second thing', 0.01509),\n",
       " ('other thing', 0.01509),\n",
       " ('server side', 0.01477),\n",
       " ('time', 0.01467),\n",
       " ('golang version', 0.01455),\n",
       " ('ether recording board', 0.01414),\n",
       " ('private deposit recording', 0.01414),\n",
       " ('client', 0.01412),\n",
       " ('initial test', 0.01389),\n",
       " ('sanity test', 0.01389),\n",
       " ('request test', 0.01389),\n",
       " ('discussed couple', 0.0135),\n",
       " ('different cluster', 0.01344),\n",
       " ('multiple tasks', 0.01275),\n",
       " ('incorrect requirements', 0.01274),\n",
       " ('code', 0.01269),\n",
       " ('lambda function', 0.0122),\n",
       " ('slam function', 0.0122),\n",
       " ('reverse way', 0.01193),\n",
       " ('key phrases', 0.01187),\n",
       " ('meeting', 0.01176),\n",
       " ('second process', 0.01162),\n",
       " ('second channel', 0.01162),\n",
       " ('apa gateway', 0.01162),\n",
       " ('second approach', 0.01162),\n",
       " ('pc s', 0.01153),\n",
       " ('language party writing', 0.01144),\n",
       " ('other items', 0.01132),\n",
       " ('incorrect deployments', 0.01124),\n",
       " ('ether recording board disconnects', 0.01121),\n",
       " ('channel minds', 0.01111),\n",
       " ('core setting', 0.01094),\n",
       " ('core part', 0.01094),\n",
       " ('capture core', 0.01094),\n",
       " ('review comments domains', 0.01075),\n",
       " ('center system', 0.01069),\n",
       " ('hermes', 0.01055),\n",
       " ('pieces extraction', 0.00996),\n",
       " ('next part', 0.00962),\n",
       " ('ready nice', 0.00947),\n",
       " ('got few comments', 0.00939),\n",
       " ('clear picture', 0.00933),\n",
       " ('goal line version', 0.00918),\n",
       " ('new model', 0.00913),\n",
       " ('executives like', 0.00909),\n",
       " ('local needs', 0.00905),\n",
       " ('things', 0.00878),\n",
       " ('memory-intensive breasts', 0.00875),\n",
       " ('actual process', 0.00856),\n",
       " ('event', 0.00845),\n",
       " ('slack negotiation', 0.00844),\n",
       " ('want run', 0.00844),\n",
       " ('sure', 0.00811),\n",
       " ('everything like channel minds', 0.0081),\n",
       " ('ether', 0.00797),\n",
       " ('issue', 0.00793),\n",
       " ('lambda function interface', 0.0077),\n",
       " ('respect', 0.00735),\n",
       " ('review', 0.00733),\n",
       " ('changes', 0.00723),\n",
       " ('everything', 0.00698),\n",
       " ('url', 0.00689),\n",
       " ('such', 0.00682),\n",
       " ('new docker file', 0.00679),\n",
       " ('yawm al file', 0.00679),\n",
       " ('thing', 0.0065),\n",
       " ('early next week', 0.00645),\n",
       " ('yesterday yesterday', 0.00645),\n",
       " ('comments', 0.00641),\n",
       " ('side', 0.00636),\n",
       " ('version', 0.00626),\n",
       " ('test', 0.00598),\n",
       " ('key phrase team phrases', 0.00593),\n",
       " ('engineering related challenges', 0.0059),\n",
       " ('couple', 0.00582),\n",
       " ('cluster', 0.00579),\n",
       " ('somebody', 0.00578),\n",
       " ('internal ldn bc s', 0.00577),\n",
       " ('repository', 0.00559),\n",
       " ('yesterday', 0.00556),\n",
       " ('tasks', 0.00549),\n",
       " ('requirements', 0.00549),\n",
       " ('ios', 0.00536),\n",
       " ('sick tomasi guilty', 0.00532),\n",
       " ('disconnect', 0.00516),\n",
       " ('way', 0.00514),\n",
       " ('list', 0.00514),\n",
       " ('second', 0.00501),\n",
       " ('gateway', 0.005),\n",
       " ('end', 0.00485),\n",
       " ('everybody', 0.00482),\n",
       " ('server', 0.00472),\n",
       " ('karthik', 0.00464),\n",
       " ('system', 0.0046),\n",
       " ('kind', 0.00456),\n",
       " ('week', 0.0044),\n",
       " ('extraction', 0.00429),\n",
       " ('options', 0.00416),\n",
       " ('part', 0.00414),\n",
       " ('problems', 0.00413),\n",
       " ('ready', 0.00408),\n",
       " ('needs', 0.0039),\n",
       " ('docker', 0.00376),\n",
       " ('domain', 0.0037),\n",
       " ('sanity', 0.00368),\n",
       " ('sigh', 0.00365),\n",
       " ('want', 0.00363),\n",
       " ('mechanism', 0.00363)]"
      ]
     },
     "execution_count": 36,
     "metadata": {},
     "output_type": "execute_result"
    }
   ],
   "source": [
    "tr.keywords_extraction(doc, top_p =0.3, directed=False, lemma=False, window=5, \n",
    "                       conn_with_original_ctx=False, weight_comb='log_norm_max', stop_words=custom_stop_words)[0]"
   ]
  },
  {
   "cell_type": "code",
   "execution_count": 37,
   "metadata": {},
   "outputs": [
    {
     "data": {
      "text/plain": [
       "[('hermes service', 0.04057),\n",
       " ('key service', 0.04057),\n",
       " ('applications service', 0.04057),\n",
       " ('ether service', 0.04057),\n",
       " ('service image', 0.04057),\n",
       " ('authentication service', 0.04057),\n",
       " ('independent service', 0.04057),\n",
       " ('hermes call', 0.04018),\n",
       " ('call auditing', 0.04018),\n",
       " ('production issue', 0.0357),\n",
       " ('recording client', 0.03278),\n",
       " ('client disconnect', 0.03278),\n",
       " ('client side', 0.03278),\n",
       " ('capture code', 0.02947),\n",
       " ('browser code', 0.02947),\n",
       " ('code review', 0.02947),\n",
       " ('meeting command', 0.0273),\n",
       " ('end meeting', 0.0273),\n",
       " ('meeting number', 0.0273),\n",
       " ('service docker image', 0.02559)]"
      ]
     },
     "execution_count": 37,
     "metadata": {},
     "output_type": "execute_result"
    }
   ],
   "source": [
    "tr.keywords_extraction(doc, top_p =0.3, directed=False, lemma=False, window=5, \n",
    "                       conn_with_original_ctx=False, weight_comb='log_norm_max',\n",
    "                      stop_words=custom_stop_words,\n",
    "                      solver='pagerank_numpy')[0][:20]"
   ]
  },
  {
   "cell_type": "code",
   "execution_count": 29,
   "metadata": {},
   "outputs": [
    {
     "data": {
      "text/plain": [
       "['website', 'analytics', 'segment']"
      ]
     },
     "execution_count": 29,
     "metadata": {},
     "output_type": "execute_result"
    }
   ],
   "source": [
    "list(doc_graph.neighbors('google'))"
   ]
  },
  {
   "cell_type": "code",
   "execution_count": 30,
   "metadata": {},
   "outputs": [
    {
     "data": {
      "text/plain": [
       "['past',\n",
       " 'scenario',\n",
       " 'service',\n",
       " 'comments',\n",
       " 'disconnects',\n",
       " 'recording',\n",
       " 'client',\n",
       " 'disconnect',\n",
       " 'domains',\n",
       " 'end',\n",
       " 'hermes',\n",
       " 'board',\n",
       " 'dependency',\n",
       " 'sure']"
      ]
     },
     "execution_count": 30,
     "metadata": {},
     "output_type": "execute_result"
    }
   ],
   "source": [
    "list(doc_graph.neighbors('ether'))"
   ]
  },
  {
   "cell_type": "code",
   "execution_count": null,
   "metadata": {},
   "outputs": [],
   "source": [
    "list(doc_graph.edges('google'))"
   ]
  },
  {
   "cell_type": "code",
   "execution_count": 33,
   "metadata": {},
   "outputs": [
    {
     "data": {
      "text/plain": [
       "[('hermes', 'yeah'),\n",
       " ('hermes', 'service'),\n",
       " ('hermes', 'everybody'),\n",
       " ('hermes', 'repository'),\n",
       " ('hermes', 'ether'),\n",
       " ('hermes', 'pc'),\n",
       " ('hermes', 'right'),\n",
       " ('hermes', 'call')]"
      ]
     },
     "execution_count": 33,
     "metadata": {},
     "output_type": "execute_result"
    }
   ],
   "source": [
    "list(doc_graph.edges('hermes'))"
   ]
  },
  {
   "cell_type": "code",
   "execution_count": null,
   "metadata": {},
   "outputs": [],
   "source": [
    "nx.closeness_centrality(doc_graph)"
   ]
  },
  {
   "cell_type": "code",
   "execution_count": null,
   "metadata": {},
   "outputs": [],
   "source": [
    "d = dict(nx.degree(doc_graph))"
   ]
  },
  {
   "cell_type": "code",
   "execution_count": null,
   "metadata": {},
   "outputs": [],
   "source": [
    "sorted(d.items(), key=lambda x: (-x[1], x[0]))"
   ]
  },
  {
   "cell_type": "markdown",
   "metadata": {},
   "source": [
    "# Testing Custom Graph"
   ]
  },
  {
   "cell_type": "code",
   "execution_count": 6,
   "metadata": {},
   "outputs": [],
   "source": [
    "%load_ext autoreload\n",
    "%autoreload 2"
   ]
  },
  {
   "cell_type": "code",
   "execution_count": 7,
   "metadata": {},
   "outputs": [],
   "source": [
    "%matplotlib widget"
   ]
  },
  {
   "cell_type": "code",
   "execution_count": 8,
   "metadata": {},
   "outputs": [
    {
     "ename": "ModuleNotFoundError",
     "evalue": "No module named 'graphrank'",
     "output_type": "error",
     "traceback": [
      "\u001b[0;31m---------------------------------------------------------------------------\u001b[0m",
      "\u001b[0;31mModuleNotFoundError\u001b[0m                       Traceback (most recent call last)",
      "\u001b[0;32m<ipython-input-8-f5deec087db6>\u001b[0m in \u001b[0;36m<module>\u001b[0;34m\u001b[0m\n\u001b[1;32m      1\u001b[0m \u001b[0;32mimport\u001b[0m \u001b[0mjgtextrank\u001b[0m \u001b[0;32mas\u001b[0m \u001b[0mtr\u001b[0m\u001b[0;34m\u001b[0m\u001b[0;34m\u001b[0m\u001b[0m\n\u001b[0;32m----> 2\u001b[0;31m \u001b[0;32mfrom\u001b[0m \u001b[0mgraphrank\u001b[0m \u001b[0;32mimport\u001b[0m \u001b[0mGraphRank\u001b[0m\u001b[0;34m\u001b[0m\u001b[0;34m\u001b[0m\u001b[0m\n\u001b[0m\u001b[1;32m      3\u001b[0m \u001b[0;32mfrom\u001b[0m \u001b[0mutils\u001b[0m \u001b[0;32mimport\u001b[0m \u001b[0mVisualizeGraph\u001b[0m\u001b[0;34m\u001b[0m\u001b[0;34m\u001b[0m\u001b[0m\n\u001b[1;32m      4\u001b[0m \u001b[0;32mimport\u001b[0m \u001b[0mnetworkx\u001b[0m \u001b[0;32mas\u001b[0m \u001b[0mnx\u001b[0m\u001b[0;34m\u001b[0m\u001b[0;34m\u001b[0m\u001b[0m\n",
      "\u001b[0;31mModuleNotFoundError\u001b[0m: No module named 'graphrank'"
     ]
    }
   ],
   "source": [
    "import jgtextrank as tr\n",
    "from graphrank import GraphRank\n",
    "from utils import VisualizeGraph\n",
    "import networkx as nx"
   ]
  },
  {
   "cell_type": "code",
   "execution_count": 132,
   "metadata": {},
   "outputs": [],
   "source": [
    "text = u\"Compatibility of systems of linear constraints over the set of natural\\\n",
    " numbers. Criteria of compatibility of a system of linear Diophantine equations\\\n",
    ", strict inequations, and nonstrict inequations are considered. Upper bounds fo\\\n",
    "r components of a minimal set of solutions and algorithms of construction of mi\\\n",
    "nimal generating sets of solutions for all types of systems are given. These cr\\\n",
    "iteria and the corresponding algorithms for constructing a minimal supporting s\\\n",
    "et of solutions can be used in solving all the considered types systems and sys\\\n",
    "tems of mixed types.\""
   ]
  },
  {
   "cell_type": "code",
   "execution_count": 133,
   "metadata": {},
   "outputs": [],
   "source": [
    "processed_text = list(tr.preprocessing(text))"
   ]
  },
  {
   "cell_type": "code",
   "execution_count": 134,
   "metadata": {},
   "outputs": [],
   "source": [
    "def get_pos_tuple(proc_text):\n",
    "    word_pos_tuple = []\n",
    "    token_list = []\n",
    "    for token, pos_tuple in list(proc_text):\n",
    "        word_pos_tuple.append(pos_tuple)\n",
    "        token_list.append(token)\n",
    "    return token_list, word_pos_tuple"
   ]
  },
  {
   "cell_type": "code",
   "execution_count": 136,
   "metadata": {},
   "outputs": [],
   "source": [
    "token_list, pos_tuple = get_pos_tuple(processed_text)"
   ]
  },
  {
   "cell_type": "code",
   "execution_count": 135,
   "metadata": {},
   "outputs": [],
   "source": [
    "gr = GraphRank()"
   ]
  },
  {
   "cell_type": "code",
   "execution_count": 137,
   "metadata": {},
   "outputs": [
    {
     "name": "stdout",
     "output_type": "stream",
     "text": [
      "[('compatibility', 'NN'), ('systems', 'NNS'), ('linear', 'JJ'), ('constraints', 'NNS'), ('set', 'NN'), ('natural', 'JJ'), ('numbers', 'NNS'), ('criteria', 'NNS'), ('compatibility', 'NN'), ('system', 'NN'), ('linear', 'JJ'), ('diophantine', 'NNP'), ('equations', 'NNS'), ('strict', 'JJ'), ('inequations', 'NNS'), ('nonstrict', 'JJ'), ('inequations', 'NNS'), ('upper', 'NNP'), ('components', 'NNS'), ('minimal', 'JJ'), ('set', 'NN'), ('solutions', 'NNS'), ('algorithms', 'NN'), ('construction', 'NN'), ('minimal', 'JJ'), ('sets', 'NNS'), ('solutions', 'NNS'), ('types', 'NNS'), ('systems', 'NNS'), ('criteria', 'NNS'), ('corresponding', 'JJ'), ('algorithms', 'NN'), ('minimal', 'JJ'), ('supporting', 'NN'), ('set', 'NN'), ('solutions', 'NNS'), ('types', 'NNS'), ('systems', 'NNS'), ('systems', 'NNS'), ('mixed', 'JJ'), ('types', 'NNS')]\n",
      "[('compatibility', 'NN'), ('systems', 'NNS'), ('linear', 'JJ'), ('constraints', 'NNS'), ('set', 'NN'), ('natural', 'JJ'), ('numbers', 'NNS'), ('criteria', 'NNS'), ('compatibility', 'NN'), ('system', 'NN'), ('linear', 'JJ'), ('diophantine', 'NNP'), ('equations', 'NNS'), ('strict', 'JJ'), ('inequations', 'NNS'), ('nonstrict', 'JJ'), ('inequations', 'NNS'), ('upper', 'NNP'), ('components', 'NNS'), ('minimal', 'JJ'), ('set', 'NN'), ('solutions', 'NNS'), ('algorithms', 'NN'), ('construction', 'NN'), ('minimal', 'JJ'), ('sets', 'NNS'), ('solutions', 'NNS'), ('types', 'NNS'), ('systems', 'NNS'), ('criteria', 'NNS'), ('corresponding', 'JJ'), ('algorithms', 'NN'), ('minimal', 'JJ'), ('supporting', 'NN'), ('set', 'NN'), ('solutions', 'NNS'), ('types', 'NNS'), ('systems', 'NNS'), ('systems', 'NNS'), ('mixed', 'JJ'), ('types', 'NNS')]\n"
     ]
    }
   ],
   "source": [
    "word_graph = gr.build_word_graph(pos_tuple)"
   ]
  },
  {
   "cell_type": "code",
   "execution_count": 139,
   "metadata": {},
   "outputs": [],
   "source": [
    "viz_graph = VisualizeGraph()"
   ]
  },
  {
   "cell_type": "code",
   "execution_count": 140,
   "metadata": {},
   "outputs": [
    {
     "data": {
      "application/vnd.jupyter.widget-view+json": {
       "model_id": "c769c5e766e74860a2231305774714ae",
       "version_major": 2,
       "version_minor": 0
      },
      "text/plain": [
       "FigureCanvasNbAgg()"
      ]
     },
     "metadata": {},
     "output_type": "display_data"
    },
    {
     "name": "stderr",
     "output_type": "stream",
     "text": [
      "/Users/shashank/anaconda3/envs/textrank/lib/python3.6/site-packages/networkx/drawing/nx_pylab.py:611: MatplotlibDeprecationWarning: isinstance(..., numbers.Number)\n",
      "  if cb.is_numlike(alpha):\n"
     ]
    }
   ],
   "source": [
    "viz_graph.draw_graph(word_graph)"
   ]
  },
  {
   "cell_type": "code",
   "execution_count": 141,
   "metadata": {},
   "outputs": [
    {
     "name": "stdout",
     "output_type": "stream",
     "text": [
      "[('compatibility', 'NN'), ('systems', 'NNS'), ('linear', 'JJ'), ('constraints', 'NNS'), ('set', 'NN'), ('natural', 'JJ'), ('numbers', 'NNS'), ('criteria', 'NNS'), ('compatibility', 'NN'), ('system', 'NN'), ('linear', 'JJ'), ('diophantine', 'NNP'), ('equations', 'NNS'), ('strict', 'JJ'), ('inequations', 'NNS'), ('nonstrict', 'JJ'), ('inequations', 'NNS'), ('upper', 'NNP'), ('components', 'NNS'), ('minimal', 'JJ'), ('set', 'NN'), ('solutions', 'NNS'), ('algorithms', 'NN'), ('construction', 'NN'), ('minimal', 'JJ'), ('sets', 'NNS'), ('solutions', 'NNS'), ('types', 'NNS'), ('systems', 'NNS'), ('criteria', 'NNS'), ('corresponding', 'JJ'), ('algorithms', 'NN'), ('minimal', 'JJ'), ('supporting', 'NN'), ('set', 'NN'), ('solutions', 'NNS'), ('types', 'NNS'), ('systems', 'NNS'), ('systems', 'NNS'), ('mixed', 'JJ'), ('types', 'NNS')]\n",
      "[('compatibility', 'NN'), ('systems', 'NNS'), ('linear', 'JJ'), ('constraints', 'NNS'), ('set', 'NN'), ('natural', 'JJ'), ('numbers', 'NNS'), ('criteria', 'NNS'), ('compatibility', 'NN'), ('system', 'NN'), ('linear', 'JJ'), ('diophantine', 'NNP'), ('equations', 'NNS'), ('strict', 'JJ'), ('inequations', 'NNS'), ('nonstrict', 'JJ'), ('inequations', 'NNS'), ('upper', 'NNP'), ('components', 'NNS'), ('minimal', 'JJ'), ('set', 'NN'), ('solutions', 'NNS'), ('algorithms', 'NN'), ('construction', 'NN'), ('minimal', 'JJ'), ('sets', 'NNS'), ('solutions', 'NNS'), ('types', 'NNS'), ('systems', 'NNS'), ('criteria', 'NNS'), ('corresponding', 'JJ'), ('algorithms', 'NN'), ('minimal', 'JJ'), ('supporting', 'NN'), ('set', 'NN'), ('solutions', 'NNS'), ('types', 'NNS'), ('systems', 'NNS'), ('systems', 'NNS'), ('mixed', 'JJ'), ('types', 'NNS')]\n"
     ]
    }
   ],
   "source": [
    "node_weights, top_words = gr.node_weighting(pos_tuple)"
   ]
  },
  {
   "cell_type": "code",
   "execution_count": 142,
   "metadata": {},
   "outputs": [
    {
     "data": {
      "text/plain": [
       "{'compatibility': 0.04050130350480296,\n",
       " 'systems': 0.0635444247694692,\n",
       " 'linear': 0.05547927375550788,\n",
       " 'constraints': 0.028669198834051886,\n",
       " 'set': 0.0642777271769126,\n",
       " 'natural': 0.029583342774413265,\n",
       " 'numbers': 0.02982715489502955,\n",
       " 'criteria': 0.05291980184834524,\n",
       " 'system': 0.029216113760474803,\n",
       " 'diophantine': 0.03281820309281377,\n",
       " 'equations': 0.03564337646341648,\n",
       " 'strict': 0.036522169851136425,\n",
       " 'inequations': 0.054913438468111836,\n",
       " 'nonstrict': 0.021459367118919152,\n",
       " 'upper': 0.0349273631013934,\n",
       " 'components': 0.03180842702430976,\n",
       " 'minimal': 0.07668108188196558,\n",
       " 'solutions': 0.05077793141911456,\n",
       " 'algorithms': 0.05146666199512798,\n",
       " 'construction': 0.027808019883344165,\n",
       " 'sets': 0.02767841541539337,\n",
       " 'types': 0.03950963888722571,\n",
       " 'corresponding': 0.028175018149669974,\n",
       " 'supporting': 0.027792493863883137,\n",
       " 'mixed': 0.02800005206516726}"
      ]
     },
     "execution_count": 142,
     "metadata": {},
     "output_type": "execute_result"
    }
   ],
   "source": [
    "node_weights"
   ]
  },
  {
   "cell_type": "code",
   "execution_count": 143,
   "metadata": {},
   "outputs": [
    {
     "data": {
      "text/plain": [
       "[('minimal', 0.07668108188196558),\n",
       " ('set', 0.0642777271769126),\n",
       " ('systems', 0.0635444247694692),\n",
       " ('linear', 0.05547927375550788),\n",
       " ('inequations', 0.054913438468111836),\n",
       " ('criteria', 0.05291980184834524),\n",
       " ('algorithms', 0.05146666199512798),\n",
       " ('solutions', 0.05077793141911456),\n",
       " ('compatibility', 0.04050130350480296),\n",
       " ('types', 0.03950963888722571),\n",
       " ('strict', 0.036522169851136425),\n",
       " ('equations', 0.03564337646341648),\n",
       " ('upper', 0.0349273631013934),\n",
       " ('diophantine', 0.03281820309281377),\n",
       " ('components', 0.03180842702430976),\n",
       " ('numbers', 0.02982715489502955),\n",
       " ('natural', 0.029583342774413265),\n",
       " ('system', 0.029216113760474803),\n",
       " ('constraints', 0.028669198834051886),\n",
       " ('corresponding', 0.028175018149669974),\n",
       " ('mixed', 0.02800005206516726),\n",
       " ('construction', 0.027808019883344165),\n",
       " ('supporting', 0.027792493863883137),\n",
       " ('sets', 0.02767841541539337),\n",
       " ('nonstrict', 0.021459367118919152)]"
      ]
     },
     "execution_count": 143,
     "metadata": {},
     "output_type": "execute_result"
    }
   ],
   "source": [
    "top_words"
   ]
  },
  {
   "cell_type": "code",
   "execution_count": 170,
   "metadata": {},
   "outputs": [],
   "source": [
    "multi_terms = gr.retrieve_multi_keyterms(pos_tuple, token_list)"
   ]
  },
  {
   "cell_type": "code",
   "execution_count": 171,
   "metadata": {},
   "outputs": [
    {
     "data": {
      "text/plain": [
       "[(['compatibility'], [0.04050130350480296]),\n",
       " (['systems'], [0.0635444247694692]),\n",
       " (['linear', 'constraints'], [0.05547927375550788, 0.028669198834051886]),\n",
       " (['set'], [0.0642777271769126]),\n",
       " (['natural', 'numbers'], [0.029583342774413265, 0.02982715489502955]),\n",
       " (['criteria'], [0.05291980184834524]),\n",
       " (['system'], [0.029216113760474803]),\n",
       " (['linear', 'diophantine', 'equations'],\n",
       "  [0.05547927375550788, 0.03281820309281377, 0.03564337646341648]),\n",
       " (['strict', 'inequations'], [0.036522169851136425, 0.054913438468111836]),\n",
       " (['nonstrict', 'inequations'], [0.021459367118919152, 0.054913438468111836]),\n",
       " (['upper'], [0.0349273631013934]),\n",
       " (['components'], [0.03180842702430976]),\n",
       " (['minimal', 'set'], [0.07668108188196558, 0.0642777271769126]),\n",
       " (['solutions'], [0.05077793141911456]),\n",
       " (['algorithms'], [0.05146666199512798]),\n",
       " (['construction'], [0.027808019883344165]),\n",
       " (['minimal'], [0.07668108188196558]),\n",
       " (['sets'], [0.02767841541539337]),\n",
       " (['types'], [0.03950963888722571]),\n",
       " (['corresponding', 'algorithms'],\n",
       "  [0.028175018149669974, 0.05146666199512798]),\n",
       " (['minimal', 'supporting', 'set'],\n",
       "  [0.07668108188196558, 0.027792493863883137, 0.0642777271769126]),\n",
       " (['types', 'systems'], [0.03950963888722571, 0.0635444247694692]),\n",
       " (['mixed', 'types'], [0.02800005206516726, 0.03950963888722571])]"
      ]
     },
     "execution_count": 171,
     "metadata": {},
     "output_type": "execute_result"
    }
   ],
   "source": [
    "multi_terms"
   ]
  },
  {
   "cell_type": "code",
   "execution_count": 172,
   "metadata": {},
   "outputs": [],
   "source": [
    "multi_words, multi_word_scores = gr.compute_multiterm_score(pos_tuple, original_tokens=token_list)"
   ]
  },
  {
   "cell_type": "code",
   "execution_count": 173,
   "metadata": {},
   "outputs": [
    {
     "data": {
      "text/plain": [
       "23"
      ]
     },
     "execution_count": 173,
     "metadata": {},
     "output_type": "execute_result"
    }
   ],
   "source": [
    "len(multi_word_scores)"
   ]
  },
  {
   "cell_type": "code",
   "execution_count": 174,
   "metadata": {},
   "outputs": [
    {
     "name": "stdout",
     "output_type": "stream",
     "text": [
      "['compatibility', 'systems', 'linear constraints', 'set', 'natural numbers', 'criteria', 'system', 'linear diophantine equations', 'strict inequations', 'nonstrict inequations', 'upper', 'components', 'minimal set', 'solutions', 'algorithms', 'construction', 'minimal', 'sets', 'types', 'corresponding algorithms', 'minimal supporting set', 'types systems', 'mixed types']\n",
      "23 23\n"
     ]
    }
   ],
   "source": [
    "keyphrases = gr.get_keyphrases(pos_tuple, token_list)"
   ]
  },
  {
   "cell_type": "code",
   "execution_count": 175,
   "metadata": {},
   "outputs": [
    {
     "data": {
      "text/plain": [
       "[('minimal supporting set', 0.1687513029227613),\n",
       " ('minimal set', 0.1409588090588782),\n",
       " ('linear diophantine equations', 0.12394085331173813),\n",
       " ('types systems', 0.10305406365669491),\n",
       " ('strict inequations', 0.09143560831924827),\n",
       " ('linear constraints', 0.08414847258955976),\n",
       " ('corresponding algorithms', 0.07964168014479794),\n",
       " ('minimal', 0.07668108188196558),\n",
       " ('nonstrict inequations', 0.076372805587031),\n",
       " ('mixed types', 0.06750969095239297),\n",
       " ('set', 0.0642777271769126),\n",
       " ('systems', 0.0635444247694692),\n",
       " ('natural numbers', 0.05941049766944281),\n",
       " ('criteria', 0.05291980184834524),\n",
       " ('algorithms', 0.05146666199512798),\n",
       " ('solutions', 0.05077793141911456),\n",
       " ('compatibility', 0.04050130350480296),\n",
       " ('types', 0.03950963888722571),\n",
       " ('upper', 0.0349273631013934),\n",
       " ('components', 0.03180842702430976),\n",
       " ('system', 0.029216113760474803),\n",
       " ('construction', 0.027808019883344165),\n",
       " ('sets', 0.02767841541539337)]"
      ]
     },
     "execution_count": 175,
     "metadata": {},
     "output_type": "execute_result"
    }
   ],
   "source": [
    "keyphrases"
   ]
  }
 ],
 "metadata": {
  "kernelspec": {
   "display_name": "textrank",
   "language": "python",
   "name": "textrank"
  },
  "language_info": {
   "codemirror_mode": {
    "name": "ipython",
    "version": 3
   },
   "file_extension": ".py",
   "mimetype": "text/x-python",
   "name": "python",
   "nbconvert_exporter": "python",
   "pygments_lexer": "ipython3",
   "version": "3.6.8"
  }
 },
 "nbformat": 4,
 "nbformat_minor": 2
}

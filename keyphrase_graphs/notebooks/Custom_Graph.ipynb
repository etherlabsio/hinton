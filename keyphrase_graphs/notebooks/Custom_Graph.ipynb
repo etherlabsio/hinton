{
 "cells": [
  {
   "cell_type": "markdown",
   "metadata": {},
   "source": [
    "# Add Utilities"
   ]
  },
  {
   "cell_type": "code",
   "execution_count": null,
   "metadata": {},
   "outputs": [],
   "source": [
    "%load_ext autoreload\n",
    "%autoreload 2"
   ]
  },
  {
   "cell_type": "code",
   "execution_count": null,
   "metadata": {},
   "outputs": [],
   "source": [
    "%matplotlib widget"
   ]
  },
  {
   "cell_type": "code",
   "execution_count": null,
   "metadata": {},
   "outputs": [],
   "source": [
    "def sort_by_value(item_list, order='desc'):\n",
    "    \"\"\"\n",
    "    A utility function to sort lists by their value.\n",
    "    Args:\n",
    "        item_list:\n",
    "        order:\n",
    "\n",
    "    Returns:\n",
    "\n",
    "    \"\"\"\n",
    "\n",
    "    if order == 'desc':\n",
    "        sorted_list = sorted(item_list, key=lambda x: (x[1], x[0]), reverse=True)\n",
    "    else:\n",
    "        sorted_list = sorted(item_list, key=lambda x: (x[1], x[0]), reverse=False)\n",
    "\n",
    "    return sorted_list"
   ]
  },
  {
   "cell_type": "markdown",
   "metadata": {},
   "source": [
    "# Testing Custom graph"
   ]
  },
  {
   "cell_type": "code",
   "execution_count": 6,
   "metadata": {},
   "outputs": [
    {
     "name": "stderr",
     "output_type": "stream",
     "text": [
      "[E050] Can't find model 'vendor/en_core_web_sm/en_core_web_sm-2.1.0'. It doesn't seem to be a shortcut link, a Python package or a valid path to a data directory.\n"
     ]
    }
   ],
   "source": [
    "from graphrank.core import GraphRank\n",
    "from graphrank.metrics import GraphSolvers, WeightMetrics\n",
    "from graphrank.utils import GraphUtils, TextPreprocess"
   ]
  },
  {
   "cell_type": "code",
   "execution_count": 3,
   "metadata": {},
   "outputs": [
    {
     "ename": "ModuleNotFoundError",
     "evalue": "No module named 'graphrank'",
     "output_type": "error",
     "traceback": [
      "\u001b[0;31m---------------------------------------------------------------------------\u001b[0m",
      "\u001b[0;31mModuleNotFoundError\u001b[0m                       Traceback (most recent call last)",
      "\u001b[0;32m<ipython-input-3-38d570ba2313>\u001b[0m in \u001b[0;36m<module>\u001b[0;34m\u001b[0m\n\u001b[0;32m----> 1\u001b[0;31m \u001b[0;32mimport\u001b[0m \u001b[0mgraphrank\u001b[0m\u001b[0;34m\u001b[0m\u001b[0;34m\u001b[0m\u001b[0m\n\u001b[0m",
      "\u001b[0;31mModuleNotFoundError\u001b[0m: No module named 'graphrank'"
     ]
    }
   ],
   "source": [
    "import graphrank"
   ]
  },
  {
   "cell_type": "code",
   "execution_count": null,
   "metadata": {},
   "outputs": [],
   "source": [
    "import networkx as nx"
   ]
  },
  {
   "cell_type": "code",
   "execution_count": 7,
   "metadata": {},
   "outputs": [],
   "source": [
    "gr = GraphRank()\n",
    "tp = TextPreprocess()\n",
    "utils = GraphUtils()"
   ]
  },
  {
   "cell_type": "code",
   "execution_count": 8,
   "metadata": {},
   "outputs": [],
   "source": [
    "new_text = \"Initially my thought was that you ordered have an issue with in we see the memory leak Indians and all the period of time it kind of accumulates and crashes. So but this is not the the memory leak issue. It's a genuine kind of segmentation fault happened when the websocket connection got disclosed with the client, but somehow was not able to get the code for that. Probably let me negotiate more on that and see what could like find any clues or basically if you can't reproduce that issue.That's one thing called. Yeah, probably like if you're going to launch like just wanted to understand from the prior to from a perspective. Like if you want to launch with the support for Janus like shall we do like do you need to like probably we need to do some through testing and probably built on issues and probably kind of get money on things done to get the get the thing out or like won't support only Zoom as and no no will be primary.\"\n",
    "new_text = \"So last week whatever 16 years with respect to the playlist and DRM key, right? \" \\\n",
    "\"So I was able to test on Safari and chrome both wearing it was able to forward the cookies. \" \\\n",
    "\"I was just like trying to trace out the cookies whether it's cool being sent in the DRM ta PA all those things. \" \\\n",
    "\"So one thing is I had tested it, but I wanted the Deep also to test from IOS app also whether we can pass the cookies. \" \\\n",
    "\"So once that is done, it is like tested it but I just want him to also confirm that part that it can send a cookies from it was have also know but what I am right now stuck is the Eco meat to a double AC p-- a Gateway. \" \\\n",
    "\"It's not able to proxying it actually. \"\\\n",
    "\"So as you spend like I was trying to do with the goatee also, there also is not able to do it the same problem is that this something which is going.\" \\\n",
    "\"Hang on, okay.\""
   ]
  },
  {
   "cell_type": "code",
   "execution_count": 9,
   "metadata": {},
   "outputs": [],
   "source": [
    "original_tokens, pos_tuple, filtered_pos_tuple = tp.preprocess_text(new_text, filter_by_pos=True, pos_filter=['NOUN', 'PROPN', 'ADJ', 'FW'], stop_words=False)"
   ]
  },
  {
   "cell_type": "code",
   "execution_count": 10,
   "metadata": {},
   "outputs": [],
   "source": [
    "word_graph = gr.build_word_graph(pos_tuple, window=4, preserve_common_words=False, add_context=False)"
   ]
  },
  {
   "cell_type": "code",
   "execution_count": 11,
   "metadata": {},
   "outputs": [
    {
     "data": {
      "text/plain": [
       "[[('So', 'RB'),\n",
       "  ('last', 'JJ'),\n",
       "  ('week', 'NN'),\n",
       "  ('whatever', 'WDT'),\n",
       "  ('XnumberX', 'NNP'),\n",
       "  ('years', 'NNS'),\n",
       "  ('with', 'IN'),\n",
       "  ('respect', 'NN'),\n",
       "  ('to', 'TO'),\n",
       "  ('the', 'DT'),\n",
       "  ('playlist', 'NN'),\n",
       "  ('and', 'CC'),\n",
       "  ('DRM', 'NNP'),\n",
       "  ('key', 'NN'),\n",
       "  (',', ','),\n",
       "  ('right', 'RB'),\n",
       "  ('?', '.')],\n",
       " [('So', 'RB'),\n",
       "  ('I', 'PRP'),\n",
       "  ('was', 'VBD'),\n",
       "  ('able', 'JJ'),\n",
       "  ('to', 'TO'),\n",
       "  ('test', 'VB'),\n",
       "  ('on', 'IN'),\n",
       "  ('Safari', 'NNP'),\n",
       "  ('and', 'CC'),\n",
       "  ('chrome', 'VB'),\n",
       "  ('both', 'DT'),\n",
       "  ('wearing', 'VBG'),\n",
       "  ('it', 'PRP'),\n",
       "  ('was', 'VBD'),\n",
       "  ('able', 'JJ'),\n",
       "  ('to', 'TO'),\n",
       "  ('forward', 'VB'),\n",
       "  ('the', 'DT'),\n",
       "  ('cookies', 'NNS'),\n",
       "  ('.', '.')],\n",
       " [('I', 'PRP'),\n",
       "  ('was', 'VBD'),\n",
       "  ('just', 'RB'),\n",
       "  ('like', 'IN'),\n",
       "  ('trying', 'VBG'),\n",
       "  ('to', 'TO'),\n",
       "  ('trace', 'VB'),\n",
       "  ('out', 'RP'),\n",
       "  ('the', 'DT'),\n",
       "  ('cookies', 'NNS'),\n",
       "  ('whether', 'IN'),\n",
       "  ('it', 'PRP'),\n",
       "  ('is', 'VBZ'),\n",
       "  ('cool', 'JJ'),\n",
       "  ('being', 'VBG'),\n",
       "  ('sent', 'VBN'),\n",
       "  ('in', 'IN'),\n",
       "  ('the', 'DT'),\n",
       "  ('DRM', 'NNP'),\n",
       "  ('ta', 'NN'),\n",
       "  ('PA', 'NNP'),\n",
       "  ('all', 'PDT'),\n",
       "  ('those', 'DT'),\n",
       "  ('things', 'NNS'),\n",
       "  ('.', '.')],\n",
       " [('So', 'RB'),\n",
       "  ('one', 'CD'),\n",
       "  ('thing', 'NN'),\n",
       "  ('is', 'VBZ'),\n",
       "  ('I', 'PRP'),\n",
       "  ('had', 'VBD'),\n",
       "  ('tested', 'VBN'),\n",
       "  ('it', 'PRP'),\n",
       "  (',', ','),\n",
       "  ('but', 'CC'),\n",
       "  ('I', 'PRP'),\n",
       "  ('wanted', 'VBD'),\n",
       "  ('the', 'DT'),\n",
       "  ('Deep', 'NNP'),\n",
       "  ('also', 'RB'),\n",
       "  ('to', 'TO'),\n",
       "  ('test', 'VB'),\n",
       "  ('from', 'IN'),\n",
       "  ('IOS', 'NNP'),\n",
       "  ('app', 'NN'),\n",
       "  ('also', 'RB'),\n",
       "  ('whether', 'IN'),\n",
       "  ('we', 'PRP'),\n",
       "  ('can', 'MD'),\n",
       "  ('pass', 'VB'),\n",
       "  ('the', 'DT'),\n",
       "  ('cookies', 'NNS'),\n",
       "  ('.', '.')],\n",
       " [('So', 'RB'),\n",
       "  ('once', 'RB'),\n",
       "  ('that', 'DT'),\n",
       "  ('is', 'VBZ'),\n",
       "  ('done', 'VBN'),\n",
       "  (',', ','),\n",
       "  ('it', 'PRP'),\n",
       "  ('is', 'VBZ'),\n",
       "  ('like', 'IN'),\n",
       "  ('tested', 'VBN'),\n",
       "  ('it', 'PRP'),\n",
       "  ('but', 'CC'),\n",
       "  ('I', 'PRP'),\n",
       "  ('just', 'RB'),\n",
       "  ('want', 'VBP'),\n",
       "  ('him', 'PRP'),\n",
       "  ('to', 'TO'),\n",
       "  ('also', 'RB'),\n",
       "  ('confirm', 'VB'),\n",
       "  ('that', 'IN'),\n",
       "  ('part', 'NN'),\n",
       "  ('that', 'IN'),\n",
       "  ('it', 'PRP'),\n",
       "  ('can', 'MD'),\n",
       "  ('send', 'VB'),\n",
       "  ('a', 'DT'),\n",
       "  ('cookies', 'NNS'),\n",
       "  ('from', 'IN'),\n",
       "  ('it', 'PRP'),\n",
       "  ('was', 'VBD'),\n",
       "  ('have', 'VB'),\n",
       "  ('also', 'RB'),\n",
       "  ('know', 'VBP'),\n",
       "  ('but', 'CC'),\n",
       "  ('what', 'WP'),\n",
       "  ('I', 'PRP'),\n",
       "  ('am', 'VBP'),\n",
       "  ('right', 'RB'),\n",
       "  ('now', 'RB'),\n",
       "  ('stuck', 'VBN'),\n",
       "  ('is', 'VBZ'),\n",
       "  ('the', 'DT'),\n",
       "  ('Eco', 'NNP'),\n",
       "  ('meat', 'NN'),\n",
       "  ('to', 'TO'),\n",
       "  ('a', 'DT'),\n",
       "  ('double', 'JJ'),\n",
       "  ('AC', 'NNP'),\n",
       "  ('p', 'NN'),\n",
       "  ('a', 'DT'),\n",
       "  ('Gateway', 'NNP'),\n",
       "  ('.', '.')],\n",
       " [('Its', 'PRP$'),\n",
       "  ('not', 'RB'),\n",
       "  ('able', 'JJ'),\n",
       "  ('to', 'TO'),\n",
       "  ('proxying', 'VBG'),\n",
       "  ('it', 'PRP'),\n",
       "  ('actually', 'RB'),\n",
       "  ('.', '.')],\n",
       " [('So', 'RB'),\n",
       "  ('as', 'IN'),\n",
       "  ('you', 'PRP'),\n",
       "  ('spend', 'VBP'),\n",
       "  ('like', 'IN'),\n",
       "  ('I', 'PRP'),\n",
       "  ('was', 'VBD'),\n",
       "  ('trying', 'VBG'),\n",
       "  ('to', 'TO'),\n",
       "  ('do', 'VB'),\n",
       "  ('with', 'IN'),\n",
       "  ('the', 'DT'),\n",
       "  ('goatee', 'NN'),\n",
       "  ('also', 'RB'),\n",
       "  (',', ','),\n",
       "  ('there', 'EX'),\n",
       "  ('also', 'RB'),\n",
       "  ('is', 'VBZ'),\n",
       "  ('not', 'RB'),\n",
       "  ('able', 'JJ'),\n",
       "  ('to', 'TO'),\n",
       "  ('do', 'VB'),\n",
       "  ('it', 'PRP'),\n",
       "  ('the', 'DT'),\n",
       "  ('same', 'JJ'),\n",
       "  ('problem', 'NN'),\n",
       "  ('is', 'VBZ'),\n",
       "  ('that', 'IN'),\n",
       "  ('this', 'DT'),\n",
       "  ('something', 'NN'),\n",
       "  ('which', 'WDT'),\n",
       "  ('is', 'VBZ'),\n",
       "  ('going', 'VBG'),\n",
       "  ('.', '.'),\n",
       "  ('Hang', 'NNP'),\n",
       "  ('on', 'IN'),\n",
       "  (',', ','),\n",
       "  ('okay', 'NN'),\n",
       "  ('.', '.')]]"
      ]
     },
     "execution_count": 11,
     "metadata": {},
     "output_type": "execute_result"
    }
   ],
   "source": [
    "pos_tuple"
   ]
  },
  {
   "cell_type": "code",
   "execution_count": 12,
   "metadata": {},
   "outputs": [],
   "source": [
    "pers = {\"DRM\": 2, \"Safari\": 10}"
   ]
  },
  {
   "cell_type": "code",
   "execution_count": 13,
   "metadata": {},
   "outputs": [
    {
     "data": {
      "text/plain": [
       "31"
      ]
     },
     "execution_count": 13,
     "metadata": {},
     "output_type": "execute_result"
    }
   ],
   "source": [
    "word_graph.number_of_nodes()"
   ]
  },
  {
   "cell_type": "code",
   "execution_count": 14,
   "metadata": {},
   "outputs": [],
   "source": [
    "node_weights, top_words = gr.node_weighting(word_graph, input_pos_text=pos_tuple,normalize_nodes='degree', personalization=pers)"
   ]
  },
  {
   "cell_type": "code",
   "execution_count": 15,
   "metadata": {},
   "outputs": [
    {
     "data": {
      "text/plain": [
       "{}"
      ]
     },
     "execution_count": 15,
     "metadata": {},
     "output_type": "execute_result"
    }
   ],
   "source": [
    "word_graph.graph"
   ]
  },
  {
   "cell_type": "code",
   "execution_count": 16,
   "metadata": {},
   "outputs": [
    {
     "data": {
      "text/plain": [
       "{'week': 0.0036784888454249928,\n",
       " 'XnumberX': 0.0038270514059846727,\n",
       " 'year': 0.004380494684508565,\n",
       " 'respect': 0.004820313771379171,\n",
       " 'playlist': 0.005189694294425694,\n",
       " 'DRM': 0.008324002427213583,\n",
       " 'key': 0.008711225844626892,\n",
       " 'test': 0.006651747596085516,\n",
       " 'Safari': 0.027539639229178684,\n",
       " 'chrome': 0.009039697267541436,\n",
       " 'forward': 0.00932103745549071,\n",
       " 'cooky': 0.0053513162041300254,\n",
       " 'trace': 0.0062932152050489965,\n",
       " 'cool': 0.005029173134042699,\n",
       " 'ta': 0.00491010868945289,\n",
       " 'PA': 0.0047528175143166694,\n",
       " 'Deep': 0.004610850540485315,\n",
       " 'IOS': 0.004088849511614045,\n",
       " 'app': 0.0038824018952623106,\n",
       " 'pass': 0.003663184251030002,\n",
       " 'confirm': 0.003078965027451749,\n",
       " 'send': 0.002830821609007943,\n",
       " 'Eco': 0.002382512846478932,\n",
       " 'meat': 0.002154547415157687,\n",
       " 'double': 0.0019375968271171547,\n",
       " 'AC': 0.0013959158399666283,\n",
       " 'Gateway': 0.0012145202196818825,\n",
       " 'spend': 0.0010557535604668966,\n",
       " 'goatee': 0.0009512144509646648,\n",
       " 'problem': 0.0008974946979962495,\n",
       " 'Hang': 0.0008550735881970728}"
      ]
     },
     "execution_count": 16,
     "metadata": {},
     "output_type": "execute_result"
    }
   ],
   "source": [
    "dict(node_weights)"
   ]
  },
  {
   "cell_type": "code",
   "execution_count": 17,
   "metadata": {},
   "outputs": [
    {
     "data": {
      "text/plain": [
       "[('Safari', 0.027539639229178684),\n",
       " ('forward', 0.00932103745549071),\n",
       " ('chrome', 0.009039697267541436),\n",
       " ('key', 0.008711225844626892),\n",
       " ('DRM', 0.008324002427213583),\n",
       " ('test', 0.006651747596085516),\n",
       " ('trace', 0.0062932152050489965),\n",
       " ('cooky', 0.0053513162041300254),\n",
       " ('playlist', 0.005189694294425694),\n",
       " ('cool', 0.005029173134042699),\n",
       " ('ta', 0.00491010868945289),\n",
       " ('respect', 0.004820313771379171),\n",
       " ('PA', 0.0047528175143166694),\n",
       " ('Deep', 0.004610850540485315),\n",
       " ('year', 0.004380494684508565),\n",
       " ('IOS', 0.004088849511614045),\n",
       " ('app', 0.0038824018952623106),\n",
       " ('XnumberX', 0.0038270514059846727),\n",
       " ('week', 0.0036784888454249928),\n",
       " ('pass', 0.003663184251030002),\n",
       " ('confirm', 0.003078965027451749),\n",
       " ('send', 0.002830821609007943),\n",
       " ('Eco', 0.002382512846478932),\n",
       " ('meat', 0.002154547415157687),\n",
       " ('double', 0.0019375968271171547),\n",
       " ('AC', 0.0013959158399666283),\n",
       " ('Gateway', 0.0012145202196818825),\n",
       " ('spend', 0.0010557535604668966),\n",
       " ('goatee', 0.0009512144509646648),\n",
       " ('problem', 0.0008974946979962495),\n",
       " ('Hang', 0.0008550735881970728)]"
      ]
     },
     "execution_count": 17,
     "metadata": {},
     "output_type": "execute_result"
    }
   ],
   "source": [
    "top_words"
   ]
  },
  {
   "cell_type": "markdown",
   "metadata": {},
   "source": [
    "## Get Multi-keywords terms based on their co-occurrence"
   ]
  },
  {
   "cell_type": "code",
   "execution_count": 18,
   "metadata": {},
   "outputs": [],
   "source": [
    "multi_terms = gr.retrieve_multi_keyterms(word_graph, normalize_nodes='degree', input_pos_text=pos_tuple, personalization=pers)"
   ]
  },
  {
   "cell_type": "code",
   "execution_count": 19,
   "metadata": {},
   "outputs": [
    {
     "data": {
      "text/plain": [
       "[(['week'], [0.0036784888454249928]),\n",
       " (['XnumberX', 'years'], [0.0038270514059846727, 0.004380494684508565]),\n",
       " (['respect'], [0.004820313771379171]),\n",
       " (['playlist'], [0.005189694294425694]),\n",
       " (['DRM', 'key'], [0.008324002427213583, 0.008711225844626892]),\n",
       " (['test'], [0.006651747596085516]),\n",
       " (['Safari'], [0.027539639229178684]),\n",
       " (['chrome'], [0.009039697267541436]),\n",
       " (['forward'], [0.00932103745549071]),\n",
       " (['cookies'], [0.0053513162041300254]),\n",
       " (['trace'], [0.0062932152050489965]),\n",
       " (['cool'], [0.005029173134042699]),\n",
       " (['DRM', 'ta', 'PA'],\n",
       "  [0.008324002427213583, 0.00491010868945289, 0.0047528175143166694]),\n",
       " (['Deep'], [0.004610850540485315]),\n",
       " (['IOS', 'app'], [0.004088849511614045, 0.0038824018952623106]),\n",
       " (['pass'], [0.003663184251030002]),\n",
       " (['confirm'], [0.003078965027451749]),\n",
       " (['send'], [0.002830821609007943]),\n",
       " (['Eco', 'meat'], [0.002382512846478932, 0.002154547415157687]),\n",
       " (['double', 'AC'], [0.0019375968271171547, 0.0013959158399666283]),\n",
       " (['Gateway'], [0.0012145202196818825]),\n",
       " (['spend'], [0.0010557535604668966]),\n",
       " (['goatee'], [0.0009512144509646648]),\n",
       " (['problem'], [0.0008974946979962495]),\n",
       " (['Hang'], [0.0008550735881970728])]"
      ]
     },
     "execution_count": 19,
     "metadata": {},
     "output_type": "execute_result"
    }
   ],
   "source": [
    "multi_terms"
   ]
  },
  {
   "cell_type": "markdown",
   "metadata": {},
   "source": [
    "## Compute aggregated scores for multi-keyword terms"
   ]
  },
  {
   "cell_type": "code",
   "execution_count": 20,
   "metadata": {},
   "outputs": [],
   "source": [
    "multi_words, multi_word_scores = gr.compute_multiterm_score(word_graph, normalize_nodes='degree', input_pos_text=pos_tuple)"
   ]
  },
  {
   "cell_type": "code",
   "execution_count": 21,
   "metadata": {},
   "outputs": [
    {
     "ename": "NameError",
     "evalue": "name 'sort_by_value' is not defined",
     "output_type": "error",
     "traceback": [
      "\u001b[0;31m---------------------------------------------------------------------------\u001b[0m",
      "\u001b[0;31mNameError\u001b[0m                                 Traceback (most recent call last)",
      "\u001b[0;32m<ipython-input-21-fcd479720820>\u001b[0m in \u001b[0;36m<module>\u001b[0;34m\u001b[0m\n\u001b[0;32m----> 1\u001b[0;31m \u001b[0msort_by_value\u001b[0m\u001b[0;34m(\u001b[0m\u001b[0mlist\u001b[0m\u001b[0;34m(\u001b[0m\u001b[0mzip\u001b[0m\u001b[0;34m(\u001b[0m\u001b[0mmulti_words\u001b[0m\u001b[0;34m,\u001b[0m \u001b[0mmulti_word_scores\u001b[0m\u001b[0;34m)\u001b[0m\u001b[0;34m)\u001b[0m\u001b[0;34m,\u001b[0m \u001b[0morder\u001b[0m\u001b[0;34m=\u001b[0m\u001b[0;34m'desc'\u001b[0m\u001b[0;34m)\u001b[0m\u001b[0;34m\u001b[0m\u001b[0;34m\u001b[0m\u001b[0m\n\u001b[0m",
      "\u001b[0;31mNameError\u001b[0m: name 'sort_by_value' is not defined"
     ]
    }
   ],
   "source": [
    "sort_by_value(list(zip(multi_words, multi_word_scores)), order='desc')"
   ]
  },
  {
   "cell_type": "markdown",
   "metadata": {},
   "source": [
    "## Get final list of Keyphrases"
   ]
  },
  {
   "cell_type": "code",
   "execution_count": 22,
   "metadata": {},
   "outputs": [],
   "source": [
    "keyphrases = gr.get_keyphrases(word_graph, normalize_nodes='degree', input_pos_text=pos_tuple)"
   ]
  },
  {
   "cell_type": "code",
   "execution_count": 23,
   "metadata": {},
   "outputs": [
    {
     "data": {
      "text/plain": [
       "[('DRM ta PA', 0.01457038669657938),\n",
       " ('XnumberX years', 0.012064167828958262),\n",
       " ('double AC', 0.011132066391378145),\n",
       " ('Eco meat', 0.01066835825992844),\n",
       " ('IOS app', 0.009876937995151928),\n",
       " ('DRM key', 0.009830039072766004),\n",
       " ('Hang', 0.006974708671007507),\n",
       " ('week', 0.006644223738651739),\n",
       " ('problem', 0.0065613904174227945),\n",
       " ('goatee', 0.006265464140258975),\n",
       " ('spend', 0.006030129086511506),\n",
       " ('Gateway', 0.005828202799800988),\n",
       " ('respect', 0.0056241609324762555),\n",
       " ('playlist', 0.005369806769608607),\n",
       " ('send', 0.005307991655967582),\n",
       " ('confirm', 0.005246492851974947),\n",
       " ('trace', 0.00513545501565935),\n",
       " ('cool', 0.005099899297612537),\n",
       " ('forward', 0.005097059614660729),\n",
       " ('pass', 0.00500693959547096),\n",
       " ('chrome', 0.004985329587868014),\n",
       " ('Safari', 0.0049362943599151774),\n",
       " ('Deep', 0.004918317350297348),\n",
       " ('cookies', 0.004648604418980256),\n",
       " ('test', 0.004636985445730424)]"
      ]
     },
     "execution_count": 23,
     "metadata": {},
     "output_type": "execute_result"
    }
   ],
   "source": [
    "keyphrases"
   ]
  },
  {
   "cell_type": "markdown",
   "metadata": {},
   "source": [
    "## Check for number of degrees for each node\n",
    "\n",
    "The idea, here, is to check if there is a correlation between the above `top_words` (which is based on `pagerank` scores) and degree scores for the same nodes. If yes, then possibly use the `degree centrality` metric to penalize the \"common words\""
   ]
  },
  {
   "cell_type": "code",
   "execution_count": null,
   "metadata": {},
   "outputs": [],
   "source": [
    "degree = dict(word_graph.degree())"
   ]
  },
  {
   "cell_type": "code",
   "execution_count": null,
   "metadata": {},
   "outputs": [],
   "source": [
    "sort_by_value(degree.items(), order='desc')"
   ]
  },
  {
   "cell_type": "code",
   "execution_count": null,
   "metadata": {},
   "outputs": [],
   "source": [
    "d = nx.degree(word_graph)"
   ]
  },
  {
   "cell_type": "code",
   "execution_count": null,
   "metadata": {},
   "outputs": [],
   "source": [
    "dict(d)"
   ]
  },
  {
   "cell_type": "code",
   "execution_count": null,
   "metadata": {},
   "outputs": [],
   "source": [
    "bet = dict(nx.betweenness_centrality(word_graph))"
   ]
  },
  {
   "cell_type": "code",
   "execution_count": null,
   "metadata": {},
   "outputs": [],
   "source": [
    "sort_by_value(bet.items(), order='desc')"
   ]
  },
  {
   "cell_type": "code",
   "execution_count": null,
   "metadata": {},
   "outputs": [],
   "source": [
    "degree_centrality = dict(nx.degree_centrality(word_graph))"
   ]
  },
  {
   "cell_type": "code",
   "execution_count": null,
   "metadata": {},
   "outputs": [],
   "source": [
    "sort_by_value(degree_centrality.items(), order='desc')"
   ]
  },
  {
   "cell_type": "code",
   "execution_count": null,
   "metadata": {},
   "outputs": [],
   "source": []
  },
  {
   "cell_type": "code",
   "execution_count": null,
   "metadata": {},
   "outputs": [],
   "source": []
  }
 ],
 "metadata": {
  "kernelspec": {
   "display_name": "Python 3",
   "language": "python",
   "name": "python3"
  },
  "language_info": {
   "codemirror_mode": {
    "name": "ipython",
    "version": 3
   },
   "file_extension": ".py",
   "mimetype": "text/x-python",
   "name": "python",
   "nbconvert_exporter": "python",
   "pygments_lexer": "ipython3",
   "version": "3.7.1"
  }
 },
 "nbformat": 4,
 "nbformat_minor": 2
}

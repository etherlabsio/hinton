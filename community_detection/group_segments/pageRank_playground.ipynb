{
 "cells": [
  {
   "cell_type": "code",
   "execution_count": 1,
   "metadata": {},
   "outputs": [],
   "source": [
    "import networkx as nx\n",
    "from community import best_partition"
   ]
  },
  {
   "cell_type": "code",
   "execution_count": 48,
   "metadata": {},
   "outputs": [],
   "source": [
    "G = nx.Graph()\n",
    "\n",
    "G.add_nodes_from([0,1,2,3])\n",
    "G.add_edge(0, 1, weight=0.9)\n",
    "G.add_edge(0, 2, weight=0.3)\n",
    "G.add_edge(0, 3, weight=0.6)\n",
    "G.add_edge(1, 2, weight=0.3)\n",
    "G.add_edge(1, 3, weight=0.7)\n",
    "G.add_edge(2, 3, weight=0.1)"
   ]
  },
  {
   "cell_type": "code",
   "execution_count": 49,
   "metadata": {},
   "outputs": [
    {
     "data": {
      "text/plain": [
       "{0: 0, 1: 0, 2: 0, 3: 0}"
      ]
     },
     "execution_count": 49,
     "metadata": {},
     "output_type": "execute_result"
    }
   ],
   "source": [
    "best_partition(G)"
   ]
  },
  {
   "cell_type": "code",
   "execution_count": 71,
   "metadata": {},
   "outputs": [],
   "source": [
    "G = nx.Graph()\n",
    "\n",
    "G.add_nodes_from([0,1,2,3])\n",
    "G.add_edge(0, 1, weight=0.9)\n",
    "G.add_edge(0, 2, weight=0.3)\n",
    "G.add_edge(0, 3, weight=0.6)\n",
    "G.add_edge(1, 2, weight=0.3)\n",
    "G.add_edge(1, 3, weight=0.7)\n",
    "G.add_edge(2, 3, weight=0.1)"
   ]
  },
  {
   "cell_type": "code",
   "execution_count": 72,
   "metadata": {},
   "outputs": [
    {
     "data": {
      "text/plain": [
       "{0: 0, 1: 0, 2: 0, 3: 0}"
      ]
     },
     "execution_count": 72,
     "metadata": {},
     "output_type": "execute_result"
    }
   ],
   "source": [
    "best_partition(G)"
   ]
  },
  {
   "cell_type": "code",
   "execution_count": 54,
   "metadata": {},
   "outputs": [],
   "source": [
    "import numpy as np\n",
    "X = nx.to_numpy_array(G)\n",
    "\n",
    "for i in range(len(X)):\n",
    "    X[i][i] = X[i].mean()\n",
    "\n",
    "norm_mat = (X - X.min(axis=1)) / (X.max(axis=1) - X.min(axis=1))\n",
    "norm_mat = (np.transpose(np.tril(norm_mat)) + np.triu(norm_mat)) / 2\n",
    "norm_mat = norm_mat + np.transpose(norm_mat)\n",
    "\n",
    "meeting_graph_norm = nx.from_numpy_array(norm_mat)\n",
    "meeting_graph_norm.remove_edges_from(\n",
    "    list(map(lambda x: (x, x), range(G.number_of_nodes())))\n",
    ")\n"
   ]
  },
  {
   "cell_type": "code",
   "execution_count": 56,
   "metadata": {},
   "outputs": [
    {
     "data": {
      "text/plain": [
       "{0: 0, 1: 0, 2: 0, 3: 0}"
      ]
     },
     "execution_count": 56,
     "metadata": {},
     "output_type": "execute_result"
    }
   ],
   "source": [
    "best_partition(meeting_graph_norm)"
   ]
  },
  {
   "cell_type": "code",
   "execution_count": 5,
   "metadata": {},
   "outputs": [],
   "source": [
    "import pickle\n",
    "ent_fv = pickle.load(open(\"/mnt/hdd/Venkat/knowledge_graphs/entity_graph_builder/graph_dumps/entity_features.pkl\", \"rb\"))"
   ]
  },
  {
   "cell_type": "code",
   "execution_count": 92,
   "metadata": {},
   "outputs": [
    {
     "data": {
      "text/plain": [
       "False"
      ]
     },
     "execution_count": 92,
     "metadata": {},
     "output_type": "execute_result"
    }
   ],
   "source": [
    "\"\" in ent_fv.keys()"
   ]
  },
  {
   "cell_type": "code",
   "execution_count": 32,
   "metadata": {},
   "outputs": [],
   "source": [
    "#nodes_list = [\"AWS\", \"EC2\", \"Docker\", \"SQL\", \"Postgres\", \"Container\", \"k8s\", \"Linux\"]\n",
    "\n",
    "nodes_list = ['Dynamodb',\n",
    " 'Code',\n",
    " 'Platform',\n",
    " 'Linux',\n",
    " 'Software',\n",
    " 'Server',\n",
    " 'App',\n",
    " 'Lambda',\n",
    " 'Infrastructure',\n",
    " 'Database',\n",
    " 'Dockerfile',\n",
    " 'Management',\n",
    " 'Docker',\n",
    " 'Windows',\n",
    " 'Web',\n",
    " 'Text',\n",
    " 'Network',\n",
    " 'Native',\n",
    " 'Cloud']\n",
    "\n",
    "#nodes_list = nodes_list + nodes_list"
   ]
  },
  {
   "cell_type": "code",
   "execution_count": 33,
   "metadata": {},
   "outputs": [],
   "source": [
    "from scipy.spatial.distance import cosine\n",
    "import networkx as nx\n",
    "from community import best_partition\n",
    "G2 = nx.Graph()\n",
    "for index, ent in enumerate(nodes_list):\n",
    "    for index2, ent2 in enumerate(nodes_list):\n",
    "        if index != index2:\n",
    "            G2.add_edge(index, index2, weight=1-cosine(ent_fv[nodes_list[index]], ent_fv[nodes_list[index2]]))\n",
    "\n",
    "# pg_scores = list(map(lambda kv:kv[-1][\"weight\"], G2.edges.data()))\n",
    "# import numpy as np\n",
    "# from copy import deepcopy\n",
    "# #pg_scores = [score[1] for score in pg.items()]\n",
    "# q3 = np.percentile(pg_scores, 90)\n",
    "# edge_data = deepcopy(G2.edges.data())\n",
    "# for node1, node2, weights in edge_data:\n",
    "#     if weights[\"weight\"]<q3:\n",
    "#         G2.remove_edge(node1, node2)\n"
   ]
  },
  {
   "cell_type": "code",
   "execution_count": 34,
   "metadata": {},
   "outputs": [
    {
     "ename": "KeyError",
     "evalue": "0",
     "output_type": "error",
     "traceback": [
      "\u001b[0;31m---------------------------------------------------------------------------\u001b[0m",
      "\u001b[0;31mKeyError\u001b[0m                                  Traceback (most recent call last)",
      "\u001b[0;32m<ipython-input-34-9b947081ac09>\u001b[0m in \u001b[0;36m<module>\u001b[0;34m\u001b[0m\n\u001b[0;32m----> 1\u001b[0;31m \u001b[0mG2\u001b[0m\u001b[0;34m[\u001b[0m\u001b[0;36m0\u001b[0m\u001b[0;34m]\u001b[0m\u001b[0;34m[\u001b[0m\u001b[0;36m0\u001b[0m\u001b[0;34m]\u001b[0m\u001b[0;34m\u001b[0m\u001b[0;34m\u001b[0m\u001b[0m\n\u001b[0m",
      "\u001b[0;32m~/.pipenv/sri_gpt/lib/python3.6/site-packages/networkx/classes/coreviews.py\u001b[0m in \u001b[0;36m__getitem__\u001b[0;34m(self, key)\u001b[0m\n\u001b[1;32m     52\u001b[0m \u001b[0;34m\u001b[0m\u001b[0m\n\u001b[1;32m     53\u001b[0m     \u001b[0;32mdef\u001b[0m \u001b[0m__getitem__\u001b[0m\u001b[0;34m(\u001b[0m\u001b[0mself\u001b[0m\u001b[0;34m,\u001b[0m \u001b[0mkey\u001b[0m\u001b[0;34m)\u001b[0m\u001b[0;34m:\u001b[0m\u001b[0;34m\u001b[0m\u001b[0;34m\u001b[0m\u001b[0m\n\u001b[0;32m---> 54\u001b[0;31m         \u001b[0;32mreturn\u001b[0m \u001b[0mself\u001b[0m\u001b[0;34m.\u001b[0m\u001b[0m_atlas\u001b[0m\u001b[0;34m[\u001b[0m\u001b[0mkey\u001b[0m\u001b[0;34m]\u001b[0m\u001b[0;34m\u001b[0m\u001b[0;34m\u001b[0m\u001b[0m\n\u001b[0m\u001b[1;32m     55\u001b[0m \u001b[0;34m\u001b[0m\u001b[0m\n\u001b[1;32m     56\u001b[0m     \u001b[0;32mdef\u001b[0m \u001b[0mcopy\u001b[0m\u001b[0;34m(\u001b[0m\u001b[0mself\u001b[0m\u001b[0;34m)\u001b[0m\u001b[0;34m:\u001b[0m\u001b[0;34m\u001b[0m\u001b[0;34m\u001b[0m\u001b[0m\n",
      "\u001b[0;31mKeyError\u001b[0m: 0"
     ]
    }
   ],
   "source": [
    "G2[0][0]"
   ]
  },
  {
   "cell_type": "code",
   "execution_count": 35,
   "metadata": {
    "scrolled": true
   },
   "outputs": [
    {
     "name": "stdout",
     "output_type": "stream",
     "text": [
      "0.0\n",
      "--------- slice --------- \n",
      "\n",
      "\n",
      "Dynamodb\n",
      "Code\n",
      "Platform\n",
      "Linux\n",
      "Software\n",
      "Server\n",
      "App\n",
      "Lambda\n",
      "Infrastructure\n",
      "Database\n",
      "Dockerfile\n",
      "Management\n",
      "Docker\n",
      "Windows\n",
      "Web\n",
      "Text\n",
      "Network\n",
      "Native\n",
      "Cloud\n"
     ]
    }
   ],
   "source": [
    "com = best_partition(G2, resolution=1)\n",
    "from community import modularity\n",
    "print (modularity(com, G2))\n",
    "\n",
    "temp_list = []\n",
    "com_sorted = sorted(com.items(), key = lambda kv: kv[1])\n",
    "prev = 0\n",
    "tag = 0\n",
    "com_list = []\n",
    "print (\"--------- slice ---------\", \"\\n\\n\")\n",
    "for ent, cluster in com_sorted:\n",
    "    if prev!=cluster:\n",
    "        print (\"--------- slice \", cluster, \"---------\", \"\\n\\n\")\n",
    "        prev = cluster\n",
    "    print (nodes_list[ent])"
   ]
  },
  {
   "cell_type": "code",
   "execution_count": 8,
   "metadata": {
    "scrolled": false
   },
   "outputs": [
    {
     "name": "stdout",
     "output_type": "stream",
     "text": [
      "Dynamodb Code {'weight': 0.7392532229423523}\n",
      "Dynamodb Platform {'weight': 0.8803319334983826}\n",
      "Dynamodb Linux {'weight': 0.8927568197250366}\n",
      "Dynamodb Software {'weight': 0.7415710091590881}\n",
      "Dynamodb Server {'weight': 0.8919327259063721}\n",
      "Dynamodb App {'weight': 0.8944257497787476}\n",
      "Dynamodb Lambda {'weight': 0.8909897804260254}\n",
      "Dynamodb Infrastructure {'weight': 0.8681619763374329}\n",
      "Dynamodb Database {'weight': 0.893939733505249}\n",
      "Dynamodb Dockerfile {'weight': 0.8389575481414795}\n",
      "Dynamodb Management {'weight': 0.5651397705078125}\n",
      "Dynamodb Docker {'weight': 0.8798360824584961}\n",
      "Dynamodb Windows {'weight': 0.8473910689353943}\n",
      "Dynamodb Web {'weight': 0.8605970144271851}\n",
      "Dynamodb Text {'weight': 0.6981974244117737}\n",
      "Dynamodb Network {'weight': 0.8757161498069763}\n",
      "Dynamodb Native {'weight': 0.8745512962341309}\n",
      "Dynamodb Cloud {'weight': 0.8921654224395752}\n",
      "Code Platform {'weight': 0.8002544045448303}\n",
      "Code Linux {'weight': 0.8467956781387329}\n",
      "Code Software {'weight': 0.9487133026123047}\n",
      "Code Server {'weight': 0.7829422950744629}\n",
      "Code App {'weight': 0.8659833073616028}\n",
      "Code Lambda {'weight': 0.7137566804885864}\n",
      "Code Infrastructure {'weight': 0.8627997040748596}\n",
      "Code Database {'weight': 0.7808352112770081}\n",
      "Code Dockerfile {'weight': 0.7194910645484924}\n",
      "Code Management {'weight': 0.810861349105835}\n",
      "Code Docker {'weight': 0.7535515427589417}\n",
      "Code Windows {'weight': 0.808567464351654}\n",
      "Code Web {'weight': 0.8153252601623535}\n",
      "Code Text {'weight': 0.7309163212776184}\n",
      "Code Network {'weight': 0.7149669528007507}\n",
      "Code Native {'weight': 0.8240181803703308}\n",
      "Code Cloud {'weight': 0.7916097044944763}\n",
      "Platform Linux {'weight': 0.9358754754066467}\n",
      "Platform Software {'weight': 0.8120492100715637}\n",
      "Platform Server {'weight': 0.9222894310951233}\n",
      "Platform App {'weight': 0.9442587494850159}\n",
      "Platform Lambda {'weight': 0.8850297331809998}\n",
      "Platform Infrastructure {'weight': 0.9569361209869385}\n",
      "Platform Database {'weight': 0.9142217040061951}\n",
      "Platform Dockerfile {'weight': 0.836662769317627}\n",
      "Platform Management {'weight': 0.6156444549560547}\n",
      "Platform Docker {'weight': 0.87916499376297}\n",
      "Platform Windows {'weight': 0.9038519859313965}\n",
      "Platform Web {'weight': 0.9213786721229553}\n",
      "Platform Text {'weight': 0.7669963240623474}\n",
      "Platform Network {'weight': 0.89552903175354}\n",
      "Platform Native {'weight': 0.9394913911819458}\n",
      "Platform Cloud {'weight': 0.9591551423072815}\n",
      "Linux Software {'weight': 0.837980329990387}\n",
      "Linux Server {'weight': 0.9018054008483887}\n",
      "Linux App {'weight': 0.9565343856811523}\n",
      "Linux Lambda {'weight': 0.8746176362037659}\n",
      "Linux Infrastructure {'weight': 0.9224565625190735}\n",
      "Linux Database {'weight': 0.90788733959198}\n",
      "Linux Dockerfile {'weight': 0.8857186436653137}\n",
      "Linux Management {'weight': 0.6690302491188049}\n",
      "Linux Docker {'weight': 0.930294930934906}\n",
      "Linux Windows {'weight': 0.9554840922355652}\n",
      "Linux Web {'weight': 0.9105680584907532}\n",
      "Linux Text {'weight': 0.7919532060623169}\n",
      "Linux Network {'weight': 0.9035648703575134}\n",
      "Linux Native {'weight': 0.9285757541656494}\n",
      "Linux Cloud {'weight': 0.9265901446342468}\n",
      "Software Server {'weight': 0.786252498626709}\n",
      "Software App {'weight': 0.8464042544364929}\n",
      "Software Lambda {'weight': 0.7074647545814514}\n",
      "Software Infrastructure {'weight': 0.8765847086906433}\n",
      "Software Database {'weight': 0.7485929727554321}\n",
      "Software Dockerfile {'weight': 0.6906824111938477}\n",
      "Software Management {'weight': 0.8018802404403687}\n",
      "Software Docker {'weight': 0.7299611568450928}\n",
      "Software Windows {'weight': 0.7979819774627686}\n",
      "Software Web {'weight': 0.8407629132270813}\n",
      "Software Text {'weight': 0.7191949486732483}\n",
      "Software Network {'weight': 0.6863697171211243}\n",
      "Software Native {'weight': 0.8402214050292969}\n",
      "Software Cloud {'weight': 0.7922486066818237}\n",
      "Server App {'weight': 0.9348458051681519}\n",
      "Server Lambda {'weight': 0.8938652276992798}\n",
      "Server Infrastructure {'weight': 0.9110092520713806}\n",
      "Server Database {'weight': 0.9165381789207458}\n",
      "Server Dockerfile {'weight': 0.8495866656303406}\n",
      "Server Management {'weight': 0.5912769436836243}\n",
      "Server Docker {'weight': 0.8839651942253113}\n",
      "Server Windows {'weight': 0.8467081785202026}\n",
      "Server Web {'weight': 0.8982481360435486}\n",
      "Server Text {'weight': 0.7473461031913757}\n",
      "Server Network {'weight': 0.9063121676445007}\n",
      "Server Native {'weight': 0.9027674794197083}\n",
      "Server Cloud {'weight': 0.9248502850532532}\n",
      "App Lambda {'weight': 0.905074417591095}\n",
      "App Infrastructure {'weight': 0.9274934530258179}\n",
      "App Database {'weight': 0.951935350894928}\n",
      "App Dockerfile {'weight': 0.8970344662666321}\n",
      "App Management {'weight': 0.6666480302810669}\n",
      "App Docker {'weight': 0.9288449287414551}\n",
      "App Windows {'weight': 0.9154573678970337}\n",
      "App Web {'weight': 0.9211605787277222}\n",
      "App Text {'weight': 0.8327221870422363}\n",
      "App Network {'weight': 0.9292187094688416}\n",
      "App Native {'weight': 0.9409283995628357}\n",
      "App Cloud {'weight': 0.9496091604232788}\n",
      "Lambda Infrastructure {'weight': 0.862504780292511}\n",
      "Lambda Database {'weight': 0.9126450419425964}\n",
      "Lambda Dockerfile {'weight': 0.8619181513786316}\n",
      "Lambda Management {'weight': 0.5712795257568359}\n",
      "Lambda Docker {'weight': 0.890293300151825}\n",
      "Lambda Windows {'weight': 0.8170886039733887}\n",
      "Lambda Web {'weight': 0.8255609273910522}\n",
      "Lambda Text {'weight': 0.7380244135856628}\n",
      "Lambda Network {'weight': 0.8819385766983032}\n",
      "Lambda Native {'weight': 0.8592695593833923}\n",
      "Lambda Cloud {'weight': 0.9236831665039062}\n",
      "Infrastructure Database {'weight': 0.8820721507072449}\n",
      "Infrastructure Dockerfile {'weight': 0.807151734828949}\n",
      "Infrastructure Management {'weight': 0.7085028886795044}\n",
      "Infrastructure Docker {'weight': 0.8518210053443909}\n",
      "Infrastructure Windows {'weight': 0.8829829692840576}\n",
      "Infrastructure Web {'weight': 0.905741810798645}\n",
      "Infrastructure Text {'weight': 0.7462210655212402}\n",
      "Infrastructure Network {'weight': 0.8590219616889954}\n",
      "Infrastructure Native {'weight': 0.9169127345085144}\n",
      "Infrastructure Cloud {'weight': 0.9519723057746887}\n",
      "Database Dockerfile {'weight': 0.8783250451087952}\n",
      "Database Management {'weight': 0.5943378806114197}\n",
      "Database Docker {'weight': 0.9002642631530762}\n",
      "Database Windows {'weight': 0.8602602481842041}\n",
      "Database Web {'weight': 0.8449825048446655}\n",
      "Database Text {'weight': 0.7682879567146301}\n",
      "Database Network {'weight': 0.9155400395393372}\n",
      "Database Native {'weight': 0.8700955510139465}\n",
      "Database Cloud {'weight': 0.9320881366729736}\n",
      "Dockerfile Management {'weight': 0.560957670211792}\n",
      "Dockerfile Docker {'weight': 0.9670278429985046}\n",
      "Dockerfile Windows {'weight': 0.8095226287841797}\n",
      "Dockerfile Web {'weight': 0.7838435769081116}\n",
      "Dockerfile Text {'weight': 0.728945255279541}\n",
      "Dockerfile Network {'weight': 0.8887776732444763}\n",
      "Dockerfile Native {'weight': 0.8265171647071838}\n",
      "Dockerfile Cloud {'weight': 0.864240825176239}\n",
      "Management Docker {'weight': 0.5762004256248474}\n",
      "Management Windows {'weight': 0.6394039392471313}\n",
      "Management Web {'weight': 0.5912035703659058}\n",
      "Management Text {'weight': 0.5456183552742004}\n",
      "Management Network {'weight': 0.5364164710044861}\n",
      "Management Native {'weight': 0.6041041612625122}\n",
      "Management Cloud {'weight': 0.6264945864677429}\n",
      "Docker Windows {'weight': 0.8636554479598999}\n",
      "Docker Web {'weight': 0.8393794894218445}\n",
      "Docker Text {'weight': 0.7389637231826782}\n",
      "Docker Network {'weight': 0.9145463705062866}\n",
      "Docker Native {'weight': 0.8765105605125427}\n",
      "Docker Cloud {'weight': 0.9029374718666077}\n",
      "Windows Web {'weight': 0.9025661945343018}\n",
      "Windows Text {'weight': 0.7541460990905762}\n",
      "Windows Network {'weight': 0.8534635305404663}\n",
      "Windows Native {'weight': 0.8995567560195923}\n",
      "Windows Cloud {'weight': 0.8886667490005493}\n",
      "Web Text {'weight': 0.753339409828186}\n",
      "Web Network {'weight': 0.8574568033218384}\n",
      "Web Native {'weight': 0.9591301083564758}\n",
      "Web Cloud {'weight': 0.9021838903427124}\n",
      "Text Network {'weight': 0.716672420501709}\n",
      "Text Native {'weight': 0.7972961664199829}\n",
      "Text Cloud {'weight': 0.7499022483825684}\n",
      "Network Native {'weight': 0.8632349967956543}\n",
      "Network Cloud {'weight': 0.913447916507721}\n",
      "Native Cloud {'weight': 0.9149089455604553}\n"
     ]
    }
   ],
   "source": [
    "for node1, node2, weight in G2.edges.data():\n",
    "    print (nodes_list[node1], nodes_list[node2], weight)"
   ]
  },
  {
   "cell_type": "code",
   "execution_count": 16,
   "metadata": {},
   "outputs": [
    {
     "data": {
      "text/plain": [
       "0.005383179995314541"
      ]
     },
     "execution_count": 16,
     "metadata": {},
     "output_type": "execute_result"
    }
   ],
   "source": []
  },
  {
   "cell_type": "code",
   "execution_count": null,
   "metadata": {},
   "outputs": [],
   "source": []
  }
 ],
 "metadata": {
  "kernelspec": {
   "display_name": "sri_gpt",
   "language": "python3",
   "name": "sri_gpt"
  },
  "language_info": {
   "codemirror_mode": {
    "name": "ipython",
    "version": 3
   },
   "file_extension": ".py",
   "mimetype": "text/x-python",
   "name": "python",
   "nbconvert_exporter": "python",
   "pygments_lexer": "ipython3",
   "version": "3.6.8"
  }
 },
 "nbformat": 4,
 "nbformat_minor": 2
}

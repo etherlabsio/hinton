{
 "cells": [
  {
   "cell_type": "code",
   "execution_count": 1,
   "metadata": {
    "ExecuteTime": {
     "end_time": "2020-01-03T14:24:11.197180Z",
     "start_time": "2020-01-03T14:24:11.171818Z"
    }
   },
   "outputs": [],
   "source": [
    "%load_ext autoreload\n",
    "%autoreload 2"
   ]
  },
  {
   "cell_type": "code",
   "execution_count": 3,
   "metadata": {
    "ExecuteTime": {
     "end_time": "2020-01-03T14:25:59.276748Z",
     "start_time": "2020-01-03T14:25:55.936913Z"
    }
   },
   "outputs": [
    {
     "name": "stderr",
     "output_type": "stream",
     "text": [
      "ftfy or spacy is not installed using BERT BasicTokenizer instead of SpaCy & ftfy.\n"
     ]
    }
   ],
   "source": [
    "import sys\n",
    "sys.path.append(\"/home/ray__/ssd/BERT/\")\n",
    "sys.path.append(\"/home/ray__/CS/org/etherlabs/ai-engine/pkg/\")\n",
    "sys.path.append(\"../\")\n",
    "from gpt_feat_utils import GPT_Inference\n",
    "\n",
    "gpt_model = GPT_Inference(\"/home/ray__/ssd/BERT/models/se/epoch3/\", device=\"cpu\")\n",
    "\n",
    "with open('../topic_testing/cullen_test.json','rb') as f:\n",
    "    request = json.load(f)\n",
    "    if isinstance(request, str):\n",
    "        request = json.loads(request)\n"
   ]
  },
  {
   "cell_type": "code",
   "execution_count": 4,
   "metadata": {
    "ExecuteTime": {
     "end_time": "2020-01-03T14:26:00.658532Z",
     "start_time": "2020-01-03T14:25:59.279646Z"
    }
   },
   "outputs": [],
   "source": [
    "import pickle\n",
    "import numpy as np\n",
    "import networkx as nx\n",
    "# S.E\n",
    "ent_fv_full = pickle.load(open(\"/home/ray__/ssd/minds/se/se_entity_feats_v3.pkl\", \"rb\"))\n",
    "com_map = pickle.load(open(\"/home/ray__/ssd/minds/se/com_map_se_h_v3\", \"rb\"))\n",
    "# ent_graph = nx.read_gpickle(\"/home/ray__/ssd/minds/se/se_ent_graph_wcosine_pruned_v3.gpkl\")\n",
    "sent_dict = pickle.load(open(\"/home/ray__/ssd/minds/se/se_sent_dict_v3.pkl\", \"rb\"))\n",
    "\n",
    "# # A.I\n",
    "# ent_fv_full = pickle.load(open(\"/home/ray__/ssd/minds/ai/ai_entity.pkl\", \"rb\"))\n",
    "# com_map = pickle.load(open(\"/home/ray__/ssd/minds/ai/com_map_ai.pkl\", \"rb\"))\n",
    "# ent_graph = nx.read_gpickle(\"/home/ray__/ssd/minds/ai/ai_pruned_entity_wfv.gpkl\")\n",
    "\n",
    "\n",
    "common_entities = ent_fv_full.keys() & com_map.keys()\n",
    "ent_fv = {}\n",
    "for ent in common_entities:\n",
    "    ent_fv[ent] = ent_fv_full[ent]"
   ]
  },
  {
   "cell_type": "code",
   "execution_count": null,
   "metadata": {
    "ExecuteTime": {
     "start_time": "2020-01-03T14:25:59.189Z"
    }
   },
   "outputs": [],
   "source": [
    "agg_sent_dict = [j for i in sent_dict.values() for j in i]\n",
    "\n",
    "agg_sent_dict_fv = [gpt_model.get_text_feats(sent) for sent in agg_sent_dict]"
   ]
  },
  {
   "cell_type": "code",
   "execution_count": 15,
   "metadata": {
    "ExecuteTime": {
     "end_time": "2020-01-03T14:20:01.925863Z",
     "start_time": "2020-01-03T14:20:01.802869Z"
    }
   },
   "outputs": [
    {
     "data": {
      "text/plain": [
       "259148"
      ]
     },
     "execution_count": 15,
     "metadata": {},
     "output_type": "execute_result"
    }
   ],
   "source": [
    "agg_sent_dict_mapping = []\n",
    "\n"
   ]
  },
  {
   "cell_type": "code",
   "execution_count": null,
   "metadata": {},
   "outputs": [],
   "source": []
  }
 ],
 "metadata": {
  "kernelspec": {
   "display_name": "graph",
   "language": "python",
   "name": "graph"
  },
  "toc": {
   "base_numbering": 1,
   "nav_menu": {},
   "number_sections": true,
   "sideBar": true,
   "skip_h1_title": false,
   "title_cell": "Table of Contents",
   "title_sidebar": "Contents",
   "toc_cell": false,
   "toc_position": {},
   "toc_section_display": true,
   "toc_window_display": false
  }
 },
 "nbformat": 4,
 "nbformat_minor": 2
}

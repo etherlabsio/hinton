{
 "cells": [
  {
   "cell_type": "markdown",
   "metadata": {},
   "source": [
    "# enriching Mind"
   ]
  },
  {
   "cell_type": "code",
   "execution_count": null,
   "metadata": {
    "ExecuteTime": {
     "end_time": "2020-02-14T10:58:08.569172Z",
     "start_time": "2020-02-14T10:58:08.365982Z"
    }
   },
   "outputs": [],
   "source": [
    "%load_ext autoreload\n",
    "%autoreload 2"
   ]
  },
  {
   "cell_type": "code",
   "execution_count": null,
   "metadata": {
    "ExecuteTime": {
     "end_time": "2020-02-14T10:58:56.380957Z",
     "start_time": "2020-02-14T10:58:10.229705Z"
    },
    "scrolled": true
   },
   "outputs": [],
   "source": [
    "# New call\n",
    "from pipeline_newcall import generate_groups\n",
    "import sys\n",
    "import pickle, json\n",
    "import numpy as np\n",
    "from scipy.spatial.distance import cosine\n",
    "from collections import Counter\n",
    "sys.path.append(\"/home/ray__/ssd/ai-engine/pkg/\")\n",
    "import text_preprocessing.preprocess as tp\n",
    "from extra_preprocess import preprocess_text\n",
    "\n",
    "sys.path.append(\"helper_functions/\")\n",
    "from generate_controlled_top_10_ent import get_ent\n",
    "\n",
    "sys.path.append(\"/home/ray__/ssd/BERT/\")\n",
    "from gpt_feat_utils import GPT_Inference\n",
    "gpt_model = GPT_Inference(\"/home/ray__/ssd/BERT/models/se/epoch3/\", device=\"cpu\")\n",
    "\n",
    "# S.E\n",
    "ent_fv_full = pickle.load(open(\"/home/ray__/ssd/minds/se/se_entity_feats_v3.pkl\",\"rb\"))\n",
    "sent_dict = pickle.load(open(\"/home/ray__/ssd/minds/se/se_sent_dict_v3.pkl\", \"rb\"))\n",
    "com_map = pickle.load(open(\"/home/ray__/ssd/minds/se/com_map.pkl\", \"rb\"))\n",
    "kp_entity_graph = pickle.load(open(\"/home/ray__/ssd/minds/se/deployment/kp_entity_graph.pkl\", \"rb\"))\n",
    "\n",
    "\n",
    "common_entities = ent_fv_full.keys() & com_map.keys()\n",
    "ent_fv = {}\n",
    "for ent in common_entities:\n",
    "    ent_fv[ent] = ent_fv_full[ent]\n",
    "    \n"
   ]
  },
  {
   "cell_type": "code",
   "execution_count": null,
   "metadata": {
    "ExecuteTime": {
     "end_time": "2020-02-14T12:35:02.045048Z",
     "start_time": "2020-02-14T12:35:01.930150Z"
    }
   },
   "outputs": [],
   "source": [
    "from copy import deepcopy\n",
    "def get_ranked_groups(request, ent_fv, com_map, kp_entity_graph):\n",
    "    group, group_ent = get_ent(request, ent_fv, com_map, kp_entity_graph)\n",
    "    return group_ent\n",
    "\n",
    "def get_entity_mapping(group_ent, ent_fv, com_map, kp_entity_graph):\n",
    "    group_ent_map = {}\n",
    "    for groupid, ent_list in group_ent.items():\n",
    "        group_ent_map[groupid] = [com_map[ent] for ent in list(map(lambda kv:kv[0], group_ent[groupid]))]\n",
    "        #group_ent_score[groupid] = [ranked_com[com] for com in group_ent_score[groupid] if com in ranked_com.keys()]\n",
    "    \n",
    "    return group_ent_map\n",
    "\n",
    "def filter_entity_community(group_ent_map, ent_fv, com_map, kp_entity_graph):\n",
    "    group_ent_map_filtered_intrm = {}\n",
    "    group_ent_map_filtered = {}\n",
    "    for groupid, ent_map in group_ent_map.items():\n",
    "        filtered_ent_map = []\n",
    "        if len(set(ent_map)) == len(ent_map):\n",
    "            group_ent_map_filtered[groupid] = []\n",
    "        else:\n",
    "            count_a = Counter(ent_map).most_common()\n",
    "            for i, count in count_a:\n",
    "                if count>1 :\n",
    "                    filtered_ent_map.append((i, count))\n",
    "\n",
    "            group_ent_map_filtered[groupid] = filtered_ent_map\n",
    "\n",
    "    return group_ent_map_filtered\n",
    "\n",
    "\n",
    "def get_entity_mapping_rank(group_ent_map_filtered, gc, lc, ent_fv, com_map, kp_entity_graph):\n",
    "    group_ent_map_rank_lc = {}\n",
    "    group_ent_map_rank_gc = {}\n",
    "    for groupid, ent_map_list in group_ent_map_filtered.items():\n",
    "        group_ent_map_rank_intrm_lc = []\n",
    "        group_ent_map_rank_intrm_gc = []\n",
    "        \n",
    "        for ent_map, count in ent_map_list:\n",
    "            if ent_map in lc.keys() and sum(lc[ent_map])!=0:\n",
    "                group_ent_map_rank_intrm_lc.append(sum(lc[ent_map]))\n",
    "            else:\n",
    "                if ent_map in gc.keys():\n",
    "                    group_ent_map_rank_intrm_gc.append(gc[ent_map])\n",
    "                else:\n",
    "                    group_ent_map_rank_intrm_gc.append(0)\n",
    "        if group_ent_map_rank_intrm_lc!=[]:\n",
    "            group_ent_map_rank_lc[groupid] = sum(group_ent_map_rank_intrm_lc)\n",
    "        else:\n",
    "            group_ent_map_rank_gc[groupid] = sum(group_ent_map_rank_intrm_gc) \n",
    "            \n",
    "            \n",
    "    ## update gc and lc\n",
    "    updated_lc_list = []\n",
    "    for groupid, ent_map_list in group_ent_map_filtered.items():\n",
    "        for ent_map, count in ent_map_list:\n",
    "            if ent_map in lc.keys():\n",
    "                if len(lc[ent_map])!=5:\n",
    "                    lc[ent_map].append(count)\n",
    "                else:\n",
    "                    del lc[ent_map][0]\n",
    "                    lc[ent_map].append(count)\n",
    "                updated_lc_list.append(ent_map)\n",
    "            else:\n",
    "                lc[ent_map] = [count]\n",
    "                updated_lc_list.append(ent_map)\n",
    "                \n",
    "            if ent_map in gc.keys():\n",
    "                gc[ent_map] +=count\n",
    "            else:\n",
    "                gc[ent_map] = count\n",
    "                \n",
    "    print (updated_lc_list)\n",
    "    lc_copy = deepcopy(list(lc.items()))            \n",
    "    for ent, freq in lc_copy:\n",
    "        if ent not in updated_lc_list:\n",
    "            if sum(lc[ent]) == 0:\n",
    "                del lc[ent]\n",
    "            else:\n",
    "                if len(lc[ent])!=5:\n",
    "                    lc[ent].append(0)\n",
    "                else:\n",
    "                    del lc[ent][0]\n",
    "                    lc[ent].append(0)\n",
    "    \n",
    "    return group_ent_map_rank_lc, group_ent_map_rank_gc, gc, lc \n",
    "\n",
    "\n",
    "def compute_groups_new_call(req, ent_fv, com_map, kp_entity_graph, gc, lc, store=False):\n",
    "    group, group_ent = get_ranked_groups(req, ent_fv, com_map, kp_entity_graph)\n",
    "    group_ent_map = get_entity_mapping(group_ent, ent_fv, com_map, kp_entity_graph)\n",
    "    group_ent_map_filtered = filter_entity_community(group_ent_map, ent_fv, com_map, kp_entity_graph)\n",
    "    group_ent_map_rank_lc, group_ent_map_rank_gc, gc_copy, lc_copy = get_entity_mapping_rank(group_ent_map_filtered, gc, lc, ent_fv, com_map, kp_entity_graph)\n",
    "    if store:\n",
    "        print (\"writing the gc and lc update.\")\n",
    "        pickle.dumps(gc, open(\"/home/ray__/ssd/minds/se/recency/gc.pkl\",\"wb\"))\n",
    "        pickle.dumps(lc, open(\"/home/ray__/ssd/minds/se/recency/lc.pkl\",\"wb\"))\n",
    "    return group, group_ent_map_rank_lc, group_ent_map_rank_gc, gc_copy ,lc_copy"
   ]
  },
  {
   "cell_type": "code",
   "execution_count": null,
   "metadata": {
    "ExecuteTime": {
     "end_time": "2020-02-14T12:36:37.795599Z",
     "start_time": "2020-02-14T12:35:02.702190Z"
    }
   },
   "outputs": [],
   "source": [
    "test_set = ['topic_testing/sync_eng_2020_01_10.txt']\n",
    "for file in test_set:\n",
    "    gc = pickle.load(open(\"/home/ray__/ssd/minds/se/recency/gc.pkl\",\"rb\"))\n",
    "    lc = pickle.load(open(\"/home/ray__/ssd/minds/se/recency/lc.pkl\",\"rb\"))\n",
    "    with open(file,'rb') as f:\n",
    "        request = json.load(f)\n",
    "        if isinstance(request, str):\n",
    "            request = json.loads(request)\n",
    "\n",
    "    #ranked_groups, group_map, group_rank, group_ent, gc, lc = compute_groups_new_call(request)\n",
    "    group, group_ent_map_rank_lc, group_ent_map_rank_gc, gc, lc = compute_groups_new_call(request, ent_fv, com_map, kp_entity_graph, gc, lc)"
   ]
  },
  {
   "cell_type": "code",
   "execution_count": null,
   "metadata": {
    "ExecuteTime": {
     "end_time": "2020-02-14T12:37:50.527364Z",
     "start_time": "2020-02-14T12:37:50.469108Z"
    },
    "scrolled": true
   },
   "outputs": [],
   "source": [
    "gc"
   ]
  },
  {
   "cell_type": "code",
   "execution_count": null,
   "metadata": {
    "ExecuteTime": {
     "end_time": "2020-02-14T11:32:27.528949Z",
     "start_time": "2020-02-14T11:32:27.471633Z"
    },
    "scrolled": true
   },
   "outputs": [],
   "source": [
    "lc"
   ]
  },
  {
   "cell_type": "code",
   "execution_count": null,
   "metadata": {
    "ExecuteTime": {
     "end_time": "2020-02-14T12:37:32.666548Z",
     "start_time": "2020-02-14T12:37:32.611768Z"
    }
   },
   "outputs": [],
   "source": [
    "lc"
   ]
  },
  {
   "cell_type": "code",
   "execution_count": null,
   "metadata": {},
   "outputs": [],
   "source": []
  }
 ],
 "metadata": {
  "kernelspec": {
   "display_name": "graph",
   "language": "python",
   "name": "graph"
  },
  "language_info": {
   "codemirror_mode": {
    "name": "ipython",
    "version": 3
   },
   "file_extension": ".py",
   "mimetype": "text/x-python",
   "name": "python",
   "nbconvert_exporter": "python",
   "pygments_lexer": "ipython3",
   "version": "3.7.5"
  },
  "toc": {
   "base_numbering": 1,
   "nav_menu": {},
   "number_sections": true,
   "sideBar": true,
   "skip_h1_title": false,
   "title_cell": "Table of Contents",
   "title_sidebar": "Contents",
   "toc_cell": false,
   "toc_position": {},
   "toc_section_display": true,
   "toc_window_display": false
  }
 },
 "nbformat": 4,
 "nbformat_minor": 2
}

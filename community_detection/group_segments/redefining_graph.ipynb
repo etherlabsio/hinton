{
 "cells": [
  {
   "cell_type": "code",
   "execution_count": null,
   "metadata": {},
   "outputs": [],
   "source": [
    "import networkx as nx\n",
    "import json\n",
    "import numpy as np\n",
    "from scipy.spatial.distance import cosine\n",
    "import statistics"
   ]
  },
  {
   "cell_type": "code",
   "execution_count": 1,
   "metadata": {},
   "outputs": [],
   "source": [
    "import pickle\n",
    "\n",
    "\n",
    "\n",
    "# marketing\n",
    "#ent_fv_full = pickle.load(open(\"/home/arjun/NER_experiments/code/entity_graph_builder/graph_dumps/marketing_entity_feats_marketing_model_epc3.pkl\",\"rb\"))\n",
    "#ent_graph = pickle.load(open(\"/home/arjun/NER_experiments/code/entity_graph_builder/graph_dumps/entity_kp_graph_marketing.pkl\",\"rb\"))\n",
    "\n",
    "# S.E\n",
    "ent_fv_full = pickle.load(open(\"/home/arjun/NER_experiments/code/entity_graph_builder/graph_dumps/se_entity_feats_se_model_v2epc3.pkl\", \"rb\"))\n",
    "#ent_graph = pickle.load(open(\"/home/ether/hdd/Venkat/knowledge_graphs/entity_graph_builder/graph_dumps/pruned_entity_kp_graph.pkl\",\"rb\"))\n",
    "ent_graph = pickle.load(open(\"/home/arjun/NER_experiments/code/entity_graph_builder/graph_dumps/entity_kp_graph_directed_sev2_with_synrel.pkl\", \"rb\"))\n",
    "# Ether Graph\n",
    "# ent_graph = pickle.load(open(\"/home/ether/hdd/Venkat/knowledge_graphs/entity_graph_builder/graph_dumps/se_ether_graph_slack_extended.pkl\",\"rb\"))\n",
    "# ent_fv_full = pickle.load(open(\"/home/ether/hdd/Venkat/knowledge_graphs/entity_graph_builder/graph_dumps/ether_engg_entity_feats_+slack_ether_model_2+1_epc3.pkl\",\"rb\"))\n",
    "\n",
    "\n",
    "\n",
    "common_entities = ent_fv_full.keys() & ent_graph.nodes()\n",
    "ent_fv = {}\n",
    "for ent in common_entities:\n",
    "    ent_fv[ent] = ent_fv_full[ent]"
   ]
  },
  {
   "cell_type": "code",
   "execution_count": 3,
   "metadata": {},
   "outputs": [],
   "source": [
    "\n",
    "G = nx.Graph()\n",
    "\n",
    "G.add_nodes_from(list(ent_fv.keys()))"
   ]
  },
  {
   "cell_type": "code",
   "execution_count": null,
   "metadata": {},
   "outputs": [],
   "source": [
    "for nodea in G.nodes():\n",
    "    for nodeb in G.nodes():\n",
    "        G.add_edge(nodea, nodeb, weight= 1-cosine(ent_fv[nodea], ent_fv[nodeb]))"
   ]
  },
  {
   "cell_type": "code",
   "execution_count": null,
   "metadata": {},
   "outputs": [],
   "source": [
    "def construct_graph_ns_max(self, meeting_graph):\n",
    "        \n",
    "        max_connection = {}\n",
    "        max_score = {}\n",
    "        outlier_score = {}\n",
    "        for node in meeting_graph.nodes():\n",
    "            closest_connection_n = sorted(dict(meeting_graph[node]).items(), key=lambda kv:kv[1][\"weight\"], reverse=True)\n",
    "            max_score_current = []\n",
    "            \n",
    "            max_connection[node] = closest_connection_n\n",
    "            weights_n = list(map(lambda kv: (kv[1][\"weight\"]).tolist(), closest_connection_n))\n",
    "            q3 = np.percentile(weights_n, 75)\n",
    "            iqr = np.subtract(*np.percentile(weights_n, [75, 25]))\n",
    "            outlier_score[node] = {}\n",
    "            outlier_score[node][\"outlier\"] = q3 + 1 * iqr\n",
    "            outlier_score[node][\"iqr\"] = iqr\n",
    "            outlier_score[node][\"q3\"] = q3\n",
    "            outlier_score[node][\"weights_n\"] = closest_connection_n\n",
    "            outlier_score[node][\"avg+pstd\"] = statistics.mean(weights_n)+statistics.pstdev(weights_n)\n",
    "\n",
    "\n",
    "        graph_data = deepcopy(meeting_graph.edges.data())\n",
    "        for nodea, nodeb, weight in graph_data:\n",
    "            if weight[\"weight\"] > outlier_score[nodea][\"outlier\"] :\n",
    "                pass\n",
    "            else:\n",
    "                meeting_graph.remove_edge(nodea, nodeb)\n",
    "\n",
    "        return meeting_graph, yetto_prune\n"
   ]
  },
  {
   "cell_type": "code",
   "execution_count": null,
   "metadata": {},
   "outputs": [],
   "source": [
    "meeting_graph = construct_graph_ns_max(G)"
   ]
  },
  {
   "cell_type": "code",
   "execution_count": null,
   "metadata": {},
   "outputs": [],
   "source": []
  }
 ],
 "metadata": {
  "kernelspec": {
   "display_name": "sri_gpt",
   "language": "python3",
   "name": "sri_gpt"
  },
  "language_info": {
   "codemirror_mode": {
    "name": "ipython",
    "version": 3
   },
   "file_extension": ".py",
   "mimetype": "text/x-python",
   "name": "python",
   "nbconvert_exporter": "python",
   "pygments_lexer": "ipython3",
   "version": "3.6.8"
  }
 },
 "nbformat": 4,
 "nbformat_minor": 2
}

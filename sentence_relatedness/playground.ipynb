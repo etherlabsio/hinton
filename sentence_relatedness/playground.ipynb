{
 "cells": [
  {
   "cell_type": "code",
   "execution_count": null,
   "metadata": {},
   "outputs": [],
   "source": [
    "from model_loader import ModelLoader\n",
    "from text_utils import *\n",
    "import pickle\n",
    "from scipy import spatial"
   ]
  },
  {
   "cell_type": "code",
   "execution_count": null,
   "metadata": {},
   "outputs": [],
   "source": [
    "# experiment_id, experiment_name\n",
    "# 01daapwr6w051q9wwqy99jsgfy - Generic\n",
    "# 01daaqy88qzb19jqz5prjfr76y - Engineering\n",
    "# 01daaqyn9gbebc92aywnxedp0c - HR\n",
    "# 01daatanxnrqa35e6004hb7mbn - Marketing\n",
    "# 01daatbc3ak1qwc5nyc5ahv2xz - Product\n",
    "# 01dadp74wfv607knpcb6vvxgtg - AI\n",
    "# 01daayheky5f4e02qvrjptftxv - Ether Engineering"
   ]
  },
  {
   "cell_type": "code",
   "execution_count": null,
   "metadata": {},
   "outputs": [],
   "source": [
    "config_path = '/Users/venkat/Documents/mlflow/mlflow_bert/bert_mlflow_pyfunc/artifacts/bert_config.json'\n",
    "mind_path = '/Users/venkat/Documents/mlflow/mlflow_bert/bert_mlflow_pyfunc/artifacts/mind.pkl'\n",
    "model_path = '/Users/venkat/Documents/mlflow/mlflow_bert_deploy/mind-01dadp74wfv607knpcb6vvxgtg/artifacts/model.bin'\n",
    "\n",
    "model_loader = ModelLoader(config_path, mind_path, model_path)\n",
    "model = model_loader.loadModel()"
   ]
  },
  {
   "cell_type": "code",
   "execution_count": null,
   "metadata": {},
   "outputs": [],
   "source": [
    "#load test files\n",
    "test_sents = pickle.load(open('/Users/venkat/Documents/Dev/sentence_relatedness/test_data/ai_minds_sample.pkl','rb'))\n",
    "test_sents = list(test_sents['sentence'])"
   ]
  },
  {
   "cell_type": "code",
   "execution_count": null,
   "metadata": {
    "scrolled": true
   },
   "outputs": [],
   "source": [
    "sent_feat_list = []\n",
    "for sent in test_sents:\n",
    "    sent_feat_list.append(getBERTFeatures(model, sent, attn_head_idx=-1))"
   ]
  },
  {
   "cell_type": "code",
   "execution_count": null,
   "metadata": {
    "scrolled": true
   },
   "outputs": [],
   "source": [
    "kp_dist_list = []\n",
    "cs_dist_list = []\n",
    "text1_list = []\n",
    "text2_list = []\n",
    "\n",
    "for i in range(len(test_sents)):\n",
    "    sent1 = test_sents[i]\n",
    "    for j in range(i+1,len(test_sents)):\n",
    "        sent2 = test_sents[j]\n",
    "        text1_list.append(sent1)\n",
    "        text2_list.append(sent2)\n",
    "        tup1 = sent_feat_list[i]\n",
    "        tup2 = sent_feat_list[j]\n",
    "        #pos_dist_list.append(getPOSBasedSimilarity_loop(tup1, tup2, sent1, sent2))\n",
    "        kp_dist_list.append(getKPBasedSimilarity(sent1, sent2, model, tup1, tup2))\n",
    "        cs_dist_list.append(1-spatial.distance.cosine(tup1[1], tup2[1]))"
   ]
  },
  {
   "cell_type": "code",
   "execution_count": null,
   "metadata": {},
   "outputs": [],
   "source": [
    "score_df = pd.DataFrame({'Sent1': text1_list,\n",
    "                        'Sent2': text2_list,\n",
    "                        'KP_Similarity': kp_dist_list,\n",
    "                        'Cos_Similarity': cs_dist_list})\n",
    "\n",
    "score_df['dist_diff'] = score_df['Cos_Similarity']-score_df['KP_Similarity']\n",
    "score_df = score_df.sort_values(by='dist_diff',ascending=False)"
   ]
  },
  {
   "cell_type": "code",
   "execution_count": null,
   "metadata": {
    "scrolled": true
   },
   "outputs": [],
   "source": [
    "#score_df[score_df['dist_diff']<0.01]\n",
    "score_df"
   ]
  },
  {
   "cell_type": "code",
   "execution_count": null,
   "metadata": {
    "scrolled": true
   },
   "outputs": [],
   "source": [
    "key = 21\n",
    "text1 = score_df['Sent1'][key]\n",
    "text2 = score_df['Sent2'][key]\n",
    "layer_idx = 11\n",
    "kp_sim = getKPBasedSimilarity(text1,text2,model,layer_idx)\n",
    "cos_sim = getCosineSimilarity(text1, text2,model,layer_idx)"
   ]
  },
  {
   "cell_type": "code",
   "execution_count": null,
   "metadata": {},
   "outputs": [],
   "source": []
  }
 ],
 "metadata": {
  "kernelspec": {
   "display_name": "localtest",
   "language": "python",
   "name": "localtest"
  },
  "language_info": {
   "codemirror_mode": {
    "name": "ipython",
    "version": 3
   },
   "file_extension": ".py",
   "mimetype": "text/x-python",
   "name": "python",
   "nbconvert_exporter": "python",
   "pygments_lexer": "ipython3",
   "version": "3.7.3"
  }
 },
 "nbformat": 4,
 "nbformat_minor": 2
}
